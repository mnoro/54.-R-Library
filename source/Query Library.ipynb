{
 "cells": [
  {
   "cell_type": "markdown",
   "id": "adjacent-brake",
   "metadata": {},
   "source": [
    "# Query Library"
   ]
  },
  {
   "cell_type": "code",
   "execution_count": 1,
   "id": "hairy-collective",
   "metadata": {
    "ExecuteTime": {
     "end_time": "2021-06-10T21:18:55.936734Z",
     "start_time": "2021-06-10T21:18:55.513438Z"
    }
   },
   "outputs": [],
   "source": [
    "from elasticsearch import Elasticsearch, helpers, exceptions\n",
    "from elasticsearch.helpers import scan"
   ]
  },
  {
   "cell_type": "code",
   "execution_count": 2,
   "id": "neither-belle",
   "metadata": {
    "ExecuteTime": {
     "end_time": "2021-06-10T21:18:55.939928Z",
     "start_time": "2021-06-10T21:18:55.938171Z"
    }
   },
   "outputs": [],
   "source": [
    "import pandas as pd\n",
    "import numpy as np\n",
    "import os, fnmatch, datetime"
   ]
  },
  {
   "cell_type": "code",
   "execution_count": 3,
   "id": "auburn-smile",
   "metadata": {
    "ExecuteTime": {
     "end_time": "2021-06-10T21:18:56.971650Z",
     "start_time": "2021-06-10T21:18:55.941744Z"
    }
   },
   "outputs": [],
   "source": [
    "# NLP Processing\n",
    "# Import spaCy and load the language library\n",
    "import spacy\n",
    "nlp = spacy.load('en_core_web_sm')"
   ]
  },
  {
   "cell_type": "code",
   "execution_count": 4,
   "id": "decent-leone",
   "metadata": {
    "ExecuteTime": {
     "end_time": "2021-06-10T21:18:56.974586Z",
     "start_time": "2021-06-10T21:18:56.973076Z"
    }
   },
   "outputs": [],
   "source": [
    "# Import the Matcher library\n",
    "from spacy.matcher import Matcher\n"
   ]
  },
  {
   "cell_type": "code",
   "execution_count": 5,
   "id": "sharing-denmark",
   "metadata": {
    "ExecuteTime": {
     "end_time": "2021-06-10T21:18:56.977551Z",
     "start_time": "2021-06-10T21:18:56.975749Z"
    }
   },
   "outputs": [],
   "source": [
    "# Import the PhraseMatcher library\n",
    "from spacy.matcher import PhraseMatcher\n"
   ]
  },
  {
   "cell_type": "code",
   "execution_count": 6,
   "id": "north-rebate",
   "metadata": {
    "ExecuteTime": {
     "end_time": "2021-06-10T21:18:56.980890Z",
     "start_time": "2021-06-10T21:18:56.979042Z"
    }
   },
   "outputs": [],
   "source": [
    "import re"
   ]
  },
  {
   "cell_type": "markdown",
   "id": "dominican-helen",
   "metadata": {
    "heading_collapsed": true
   },
   "source": [
    "# Query "
   ]
  },
  {
   "cell_type": "code",
   "execution_count": 7,
   "id": "nominated-portugal",
   "metadata": {
    "ExecuteTime": {
     "end_time": "2021-06-10T21:18:56.984313Z",
     "start_time": "2021-06-10T21:18:56.982079Z"
    },
    "hidden": true
   },
   "outputs": [],
   "source": [
    "result_df = pd.DataFrame()\n",
    "terms_searchsummary=pd.DataFrame()"
   ]
  },
  {
   "cell_type": "code",
   "execution_count": 8,
   "id": "equal-elimination",
   "metadata": {
    "ExecuteTime": {
     "end_time": "2021-06-10T21:18:56.989411Z",
     "start_time": "2021-06-10T21:18:56.987377Z"
    },
    "hidden": true
   },
   "outputs": [],
   "source": [
    "indexname = \"maxlibrary\"\n",
    "numberOfDocs = 1000"
   ]
  },
  {
   "cell_type": "code",
   "execution_count": 9,
   "id": "detailed-provision",
   "metadata": {
    "ExecuteTime": {
     "end_time": "2021-06-10T21:18:56.993676Z",
     "start_time": "2021-06-10T21:18:56.991680Z"
    },
    "hidden": true
   },
   "outputs": [],
   "source": [
    "es =Elasticsearch(['http://localhost:9210'])"
   ]
  },
  {
   "cell_type": "code",
   "execution_count": 10,
   "id": "twenty-ultimate",
   "metadata": {
    "ExecuteTime": {
     "end_time": "2021-06-10T21:18:57.493070Z",
     "start_time": "2021-06-10T21:18:56.995255Z"
    },
    "hidden": true
   },
   "outputs": [],
   "source": [
    "# Match all\n",
    "response = es.search(\n",
    "    index = indexname,\n",
    "body = {\n",
    "    \"size\": numberOfDocs,\n",
    "    \"_source\":\"_id\",\n",
    "    \"query\":{\n",
    "        \"match_all\":{}\n",
    "    }\n",
    "})"
   ]
  },
  {
   "cell_type": "markdown",
   "id": "broken-legislature",
   "metadata": {
    "hidden": true
   },
   "source": [
    "GET maxlibrary/_search\n",
    "{\n",
    "  \"_source\": \"Title\", \n",
    "  \"query\": {\n",
    "    \"match\":{\n",
    "      \"Content\":{\n",
    "        \"query\": \"spirit jesus church ecclesia\",\n",
    "        \"operator\": \"and\"\n",
    "      }}}}"
   ]
  },
  {
   "cell_type": "code",
   "execution_count": 11,
   "id": "acute-prediction",
   "metadata": {
    "ExecuteTime": {
     "end_time": "2021-06-10T21:18:57.495834Z",
     "start_time": "2021-06-10T21:18:57.494186Z"
    },
    "hidden": true
   },
   "outputs": [],
   "source": [
    "searchquery='Spirit soul energy life chi'"
   ]
  },
  {
   "cell_type": "code",
   "execution_count": 12,
   "id": "chicken-lightning",
   "metadata": {
    "ExecuteTime": {
     "end_time": "2021-06-10T21:18:57.623018Z",
     "start_time": "2021-06-10T21:18:57.496933Z"
    },
    "hidden": true
   },
   "outputs": [],
   "source": [
    "# Match all\n",
    "response = es.search(\n",
    "    index = indexname,\n",
    "body = {\n",
    "    \"size\": numberOfDocs,\n",
    "    \"_source\":\"_id\",\n",
    "    \"query\":{\n",
    "        \"match\":{\n",
    "            \"Content\":{\n",
    "                \"query\":searchquery,\n",
    "                \"operator\":\"and\"\n",
    "            }\n",
    "        }\n",
    "    }\n",
    "})"
   ]
  },
  {
   "cell_type": "code",
   "execution_count": 13,
   "id": "governmental-marina",
   "metadata": {
    "ExecuteTime": {
     "end_time": "2021-06-10T21:18:57.626555Z",
     "start_time": "2021-06-10T21:18:57.624151Z"
    },
    "hidden": true
   },
   "outputs": [
    {
     "ename": "SyntaxError",
     "evalue": "unexpected EOF while parsing (<ipython-input-13-8e71e7c4ff02>, line 2)",
     "output_type": "error",
     "traceback": [
      "\u001b[0;36m  File \u001b[0;32m\"<ipython-input-13-8e71e7c4ff02>\"\u001b[0;36m, line \u001b[0;32m2\u001b[0m\n\u001b[0;31m    \u001b[0m\n\u001b[0m    ^\u001b[0m\n\u001b[0;31mSyntaxError\u001b[0m\u001b[0;31m:\u001b[0m unexpected EOF while parsing\n"
     ]
    }
   ],
   "source": [
    "def extract_context(text, search_words, width):\n",
    "    "
   ]
  },
  {
   "cell_type": "code",
   "execution_count": null,
   "id": "improving-switch",
   "metadata": {
    "ExecuteTime": {
     "end_time": "2021-06-10T21:18:57.630330Z",
     "start_time": "2021-06-10T21:18:55.593Z"
    },
    "hidden": true
   },
   "outputs": [],
   "source": [
    "titles=[]\n",
    "contents = []\n",
    "for doc in response['hits']['hits']:\n",
    "    tempId = doc['_id']\n",
    "    detailedResponse = es.search(\n",
    "    index = indexname,\n",
    "    body = {\n",
    "        \"size\":numberOfDocs,\n",
    "        \"query\":{\n",
    "            \"match\":{\n",
    "                \"_id\":tempId\n",
    "            }\n",
    "        }\n",
    "    })\n",
    "    entry=detailedResponse['hits']['hits'][0]\n",
    "    title = entry['_source']['Title']\n",
    "    titles.append(title)\n",
    "    contents.append(entry['_source']['Content'])\n",
    "    \n",
    "    \n",
    "    \n",
    "    \n",
    "print('''\n",
    "    Searching for: %s\n",
    "    \n",
    "    Titles Matching Search - (%s):\n",
    "    %s\n",
    "    '''%(searchquery, len(titles),titles))\n",
    "    "
   ]
  },
  {
   "cell_type": "markdown",
   "id": "embedded-acoustic",
   "metadata": {},
   "source": [
    "# NLP - Elasticsearch Initial search"
   ]
  },
  {
   "cell_type": "code",
   "execution_count": null,
   "id": "faced-resource",
   "metadata": {
    "ExecuteTime": {
     "end_time": "2021-06-10T21:18:57.631603Z",
     "start_time": "2021-06-10T21:18:55.626Z"
    }
   },
   "outputs": [],
   "source": [
    "indexname = \"maxlibrary\"\n",
    "numberOfDocs = 1000"
   ]
  },
  {
   "cell_type": "code",
   "execution_count": 106,
   "id": "assumed-action",
   "metadata": {
    "ExecuteTime": {
     "end_time": "2021-06-10T20:29:53.581450Z",
     "start_time": "2021-06-10T20:29:53.575653Z"
    }
   },
   "outputs": [],
   "source": [
    "es =Elasticsearch(['http://localhost:9210'])"
   ]
  },
  {
   "cell_type": "code",
   "execution_count": 107,
   "id": "cellular-bennett",
   "metadata": {
    "ExecuteTime": {
     "end_time": "2021-06-10T20:29:54.211749Z",
     "start_time": "2021-06-10T20:29:54.168534Z"
    }
   },
   "outputs": [],
   "source": [
    "# example doc 'BMGSzHkBNI5rijrm26YK'\n",
    "tempId = 'BMGSzHkBNI5rijrm26YK'\n",
    "detailedResponse = es.search(\n",
    "    index = indexname,\n",
    "    body = {\n",
    "        \"size\":numberOfDocs,\n",
    "        \"query\":{\n",
    "            \"match\":{\n",
    "                \"_id\":tempId\n",
    "            }\n",
    "        }\n",
    "    })"
   ]
  },
  {
   "cell_type": "code",
   "execution_count": 108,
   "id": "coral-constitutional",
   "metadata": {
    "ExecuteTime": {
     "end_time": "2021-06-10T20:29:55.210896Z",
     "start_time": "2021-06-10T20:29:55.207071Z"
    }
   },
   "outputs": [],
   "source": [
    "entry=detailedResponse['hits']['hits'][0]\n",
    "content = entry['_source']['Content']"
   ]
  },
  {
   "cell_type": "code",
   "execution_count": 109,
   "id": "innovative-verse",
   "metadata": {
    "ExecuteTime": {
     "end_time": "2021-06-10T20:29:59.315484Z",
     "start_time": "2021-06-10T20:29:59.306702Z"
    }
   },
   "outputs": [
    {
     "data": {
      "text/plain": [
       "'<h4>Header Page: 1</h4>\\n\\\\AAANNAANAAAAANAAAAARANAAAAAANAAAAAAANAAAARAANAAARAAAAAARAAAAAAA Ae,\\n\\nEZ Lp\\n\\nSS SSS 0 RE RETR PORES\\nEE AN) RSS\\n\\nROSICRUCIAN ORDER”\\nA.M.O.R.C. *\\n\\nMASTER\\nMONOGRAPH\\n\\nNEOPHYTE SECTION\\n\\nATRIUM 1 — INITIATION\\n\\n \\n\\x0c<h4>Footer Page: 1</h4>\\n<h4>Header Page: 2</h4>\\nROSICRUCIAN INITIATION\\nATRIUM 1\\n\\n“Initiation brings into the realm of reason the purpose and into the\\nrealm of emotion the spirit of one’s introduction into the Mysteries.”\\n\\nTHE STORY OF LIGHT\\n\\nAll the great avatars who gave to humanity spiritual doctrines or a\\nmoral code enabling men and women to commune with the Cosmic\\nand receive its [I}umination, were Torch Bearers of the Great Light\\nwhich, thanks to them, lit the world through history’s darkest periods.\\nWithout their help it is likely that the human race would not have\\nadvanced to its present level of understanding and tolerance, even\\nthough we must recognise that humanity still has far to go to be a\\nmodel of Divine Perfection on earth. In concordance with this\\ninitiation, whose purpose is to awaken your spiritual being, we offer\\nthis short biography of one of those great avatars who, through time\\nand space, transmitted Light to humanity.\\n\\nAKHNATON\\n(AMENHOTEP IV)\\n\\nAccording to the archives of our Order, Amenhotep IV was born in\\nthe royal palace of Thebes on November 24, 1378 B.C. He was the\\nson of Amenhotep III and of Queen Tia. In 1367, when he was only\\n11 years old, he became the pharaoh of Egypt. At a young age he\\nmarried Nefertiti (whose name means “The Coming of Beauty’’) with\\nwhom he had seven daughters.\\n\\nFrom youth onward Amenhotep IV scorned the superstitious practices\\nof the priests of Amon. He considered the priests to be impostors\\nwho took advantage of the credulity of the people so as to exert\\nabsolute power over them. Once he was vested with the required\\nauthority, Amenhotep opposed the priesthood with unprecedented\\n\\nRFO04-1/01423 -- 2 --\\n\\x0c<h4>Footer Page: 2</h4>\\n<h4>Header Page: 3</h4>\\nROSICRUCIAN ORDER, AMORC .u....c.cscscscsscssssesssssseees ATRIUM 1 -- INITIATION\\n\\ndetermination, for he was convinced that the entire universe was the\\nwork of One God, rather than a multitude of gods and goddesses\\nthat one must adore by means of multiple sacrifices. Thus, for the\\nfirst time in recorded history, monotheism supplanted a polytheism\\nwhich had spread over the entire surface of the earth. For centuries,\\nAmenhotep IV was represented as a personage afflicted by madness\\nbut historians now agree that this pharaoh originated a cultural and\\nspiritual revolution which contributed considerably to the evolution\\nof humanity.\\n\\nThe priests of Heliopolis, indeed the priests throughout all of Egypt,\\nthought that the Sun, whom they called Ra, was the God of all gods.\\nThey worshipped Ra mostly under the name of Amon-Ra. For\\nAmenhotep IV, the sun was only the visible symbol of the invisible\\nGod whom he called Aton. He changed his own name, which means\\n“Amon Is Satisfied,” into Akhnaton, meaning “Disciple of Aton.”\\nAkhnaton considered this God to be a Unique Intelligence manifesting\\nin the whole universe and penetrating all things. He thought the sun\\nto be an appropriate symbol, because through its solar rays vitality\\ncame to all earthly creatures and because the One God was present\\nin the heart of everyone. Aton was therefore often represented by a\\nsolar disk, the beams of which ended in hands, thus symbolising the\\nAton’s desire to spread blessings on all humanity. Obviously, these\\nwere advanced philosophical concepts for that day and age.\\n\\nAkhnaton soon left Thebes, Egypt’s traditional capital. He built a\\nsplendid new capital named Akhetaton (near modern-day Tell el-\\nAmarna in central Egypt) which, naturally, was dedicated to his new\\nreligion. He summoned to Akhetaton the most learned men and\\nwomen of his time and with their help laid the foundations of a\\nmystical brotherhood whose ideals and teachings were to\\nspread over the entire surface of the earth. In the heart of\\nAkhetaton he built a temple in which a brotherhood met\\nregularly to study the arts, sciences and mysteries. Our\\n\\nRFO04-1/01423 -- 3 --\\n\\x0c<h4>Footer Page: 3</h4>\\n<h4>Header Page: 4</h4>\\nROSICRUCIAN ORDER, AMORC ......c.cccccscscssssssssesseees ATRIUM 1 -- INITIATION\\n\\nOrder is the present trustee of all the knowledge that was accumulated\\nin that place, of which only a few ruins remain today.\\n\\nThroughout his life, the greatest desire of Akhnaton was to behold\\nthe face of the living and unique God he had striven to serve. Our\\narchives report that on July 24, 1350 B.C., in the late afternoon, he\\npassed through transition, with his right hand held toward the heavens,\\nsymbolising the ultimate ascent for which he had prepared himself.\\nHe was 28 years old.\\n\\nDEAR FRATRES AND SORORES\\n\\nWe hope that you fully comprehend the symbolic importance of the\\nRosicrucian Sanctum and that you have determined where you will\\nestablish your own. No obligation is involved in this matter, for\\naccording to our Order’s traditional rules, you remain free to live\\nRosicrucian philosophy as you understand it and as you experience\\nit. However, the concept of the Sanctum is one of the most ancient in\\nthe history of our mystical brotherhood and, for centuries,\\nRosicrucians have granted it considerable importance. For many the\\nSanctum is a place they love dearly because of the symbolism they\\nhave ascribed to it and because the Sanctum is where they take great\\npleasure in studying their monographs and in meditating on the\\nspiritual values of existence. When the moment comes for you, we\\nwill give further explanations concerning the Rosicrucian Sanctum.\\nAt that time we will ask that you consecrate it with a special ritual\\nwhich will make it a place the vibratory nature of which gives it a\\nmystical dimension benefitting you on all levels.\\n\\nConsidering the importance attached by our tradition to\\n\\nthe Rosicrucian Sanctum, we will presume that you have\\nnow established your Sanctum, or at the very least, that\\n\\nRFO04-1/01423 -- 4 --\\n\\x0c<h4>Footer Page: 4</h4>\\n<h4>Header Page: 5</h4>\\nROSICRUCIAN ORDER, AMORC .u....c.cscscscsscssssesssssseees ATRIUM 1 -- INITIATION\\n\\nyou will obtain all that is necessary (i.e. a table or a shelf, a mirror\\nand two candles) when you conduct your study period. To partake\\neffectively in a Rosicrucian initiation, it is imperative that you have\\nthe benefit of some sort of Sanctum, be it permanent or temporary.\\nHowever, if it is absolutely impossible for you to have at your disposal\\na Sanctum for your weekly work, you must continue your studies.\\nWhat matters most is to work on a regular basis and to put all your\\nheart into the study and practice of our teachings. With this intent,\\nread the following ritual as though it were a monograph. But as soon\\nas you can have a Sanctum at your disposal, you must conduct this\\ninitiation, so that you may fully experience the Rosicrucian tradition.\\n\\nIncluded in this special monograph is the Neophyte’s Great Oath.\\nTheoretically, it must be read and signed at a given moment in the\\nfollowing initiation. However, if you cannot conduct the initiation\\nright away for the reasons we have just explained, read it just the\\nsame, sign it and send it with your Initiation Report to the Department\\nof Instruction. (Companion Members: please photocopy both the\\nInitiation Report and the Great Oath before they are filled out or\\nsigned. Then using these copies, follow the instructions given above.)\\n\\nBefore proceeding with the following ritual, we must once again\\nemphasise that the Rosicrucian initiation has no connection\\nwhatsoever with magical practices, for AMORC has never taught\\nceremonial magic. The Order is firmly opposed to such practices as\\nblack magic or voodoo, for its leaders know from experience that\\nsuch have their roots in superstition, which in all its forms and aspects\\ngenerates fanaticism and ignorance. Rosicrucian tradition represents,\\nrather, a path of freedom and knowledge. Hence, all of its teachings\\nand initiations have only one goal: to restore to humanity what is our\\ndue, or in other words, to restore to humanity the mastery\\nof laws which have always governed life, whether they\\nbe manifested on this mundane plane or not.\\n\\nRFO04-1/01423 -_5--\\n\\x0c<h4>Footer Page: 5</h4>\\n<h4>Header Page: 6</h4>\\nROSICRUCIAN ORDER, AMORC ......c.cccccscscssssssssesseees ATRIUM 1 -- INITIATION\\n\\nIt should also be kept in mind that Rosicrucian rituals have no\\nreligious character. Their goal, as we already stated, is to enable each\\nmember to gain greater awareness of his or her spiritual nature and\\nto establish a more intimate dialogue between the Outer Self and the\\nInner Self. In fact, the key to the Mastery of Life lies in the ability to\\ncreate this dialogue, for this is what gives the individual that strength,\\nwill and power to manifest on earth the grandeur and the glory of\\nintelligence which vibrates both in the individual’s innermost self\\nand in the heart of the most remote galaxies. Rosicrucian initiation\\nthus constitutes an ideal path to “better know oneself and thus to\\nknow the universe and the gods”.\\n\\nPRELIMINARY INSTRUCTIONS\\n\\nTo complete the following initiation ritual it is imperative that your\\nSanctum be properly equipped and that you be in a state of perfect\\npeace, without risk of being disturbed.\\n\\ne = The lighting of the room in which you have set up your Sanctum\\nmust be as soft as possible. However, the light must be sufficient\\nfor you to read the instructions without difficulty.\\n\\ne The candles of your Sanctum must remain unlit prior to the ritual\\nbut you may burn a little incense.\\n\\ne Have a box of matches and a candle snuffer within reach, for\\nthey will be needed during your initiation.\\n\\ne Place a pen and a saucer holding a small amount of water on the\\naltar of your Sanctum.\\n\\nIn the ritual you are about to perform you must always\\nimagine that you are being directed by a Class Master\\n\\nand that he or she is present on the invisible plane. When\\n\\nRF004-1/01423 -- § --\\n\\x0c<h4>Footer Page: 6</h4>\\n<h4>Header Page: 7</h4>\\nROSICRUCIAN ORDER, AMORC .u....c.cscscscsscssssesssssseees ATRIUM 1 -- INITIATION\\n\\nyou feel ready to begin this initiation, sit facing your Sanctum mirror\\nand, after a few minutes of meditation, begin to read the following.\\n\\nClass Master:\\n\\nPostulant:\\n\\nClass Master:\\n\\nRFO04-1/01423\\n\\nRITUAL\\n\\n(Read the following in a low voice and imagine that\\nyour Class Master is speaking to you.)\\n\\nBeloved Postulant, Greetings on the three points\\nof our Sacred Triangle! It is with joy that I will\\nnow guide you in this initiation which will make\\nyou a Neophyte of our Order and, in that capacity,\\na full-fledged member of our mystical\\nbrotherhood. I ask you to give all your attention,\\nall your devotion, all your trust and all your\\nsincerity to this symbolic ceremony, so that you\\nmay pass this first Portal in all purity and perfect\\ndignity.\\n\\nLight the candle on your left and, immediately after\\nhaving done so, say: “May this Sacred Light,\\nsymbol of the Greater Light of Cosmic Wisdom,\\ncast its radiance in the midst of darkness and\\nilluminate my path.”\\n\\n(Carry out these instructions without the least mental\\nreservation and in an inner attitude as receptive as\\npossible.)\\n\\n(Read the following, still imagining that your Class\\nMaster is guiding you in this ritual.)\\n\\nBeloved Postulant, now light the other candle and,\\nimmediately after having done so, say the\\nfollowing:\\n\\x0c<h4>Footer Page: 7</h4>\\n<h4>Header Page: 8</h4>\\nROSICRUCIAN ORDER, AMORC ......c.cccccscscssssssssesseees ATRIUM 1 -- INITIATION\\n\\nPostulant:\\n\\nClass Master:\\n\\nRFO04-1/01423\\n\\n“Unto Light is added light, that my inner light,\\nunited with the Great Light of Cosmic Wisdom,\\nmay guide my steps out of the forest of errors\\nwhere ignorance, superstition and suffering\\nreign.”\\n\\n(Do what the Class Master has asked of you and then\\nbe seated. Meditate a few moments on what you have\\njust said and done, then continue.)\\n\\nKnow, O Postulant, that fire, from the most remote\\nantiquity, has always symbolised the purification,\\nthe regeneration and the illumination which\\nhuman consciousness receives when harmonising\\nitself with Cosmic Consciousness. Many centuries\\nago, in some form or other, a sacred flame burned\\non the altar of many temples. It symbolised the\\nOmnipresence, the Omnipotence and the\\nOmniscience of the Divine Fire. And humans,\\nbecause we possess that Divine Fire in our\\ninnermost being, are fascinated by the power\\nwhich the flame exerts over us.\\n\\nHave you not noticed, O Postulant, how your\\nfellow beings feel at peace and in communion of\\nthought when they meditate together around the\\nsame hearth? That is so because the sight of fire\\nsheds light on their soul, warms their heart and\\nawakens within them the noblest sentiments. Of\\nthat you must always be conscious, for as long as\\nyou seek the Greater Light, your inner light will\\nguide your steps.\\n\\nNow, Beloved Postulant, arise, lightly dip the tip\\n\\n8 --\\n\\x0c<h4>Footer Page: 8</h4>\\n<h4>Header Page: 9</h4>\\nROSICRUCIAN ORDER, AMORC .u....c.cscscscsscssssesssssseees ATRIUM 1 -- INITIATION\\n\\nPostulant:\\n\\nClass Master:\\n\\nRFO04-1/01423\\n\\nof your right index finger in the water, draw a\\ncross in the middle of your Sanctum mirror and\\nsay the following words:\\n\\n‘**Rosicrucian tradition states that when humans\\nsaluted the sunrise for the first time, we did so\\nwith our arms outstretched and as we were thus\\nvenerating the coming of the light of dawn, the\\nshadow formed by our body on the ground had\\nthe appearance of a cross. This allegory has\\ntraversed centuries and the cross has thus become\\nfor mystics the symbol of the physical body and\\nof the trials of earthly life which, symbolically, is\\nbut the shadow of Cosmic Life.”\\n\\n(Do and say what was asked of you.)\\n\\n(Continue your reading and pay careful attention to\\nwhat is said.)\\n\\nDip the tip of your right index finger in the water\\nagain, lightly draw a circle in the centre of the\\ncross and read the following words:\\n\\n“By this circle is symbolised the Rose, which\\nrepresents the human Soul in its gradual\\nblossoming in contact with the mundane world.\\nWhen the Rose is joined with the Cross, we become\\na vehicle of Cosmic Consciousness on earth and\\nthen participate in the advancement of the Great\\nWork. Let the Rose Cross be for you the symbol\\nof your own evolution and of your sincere desire\\nto reflect the Greatest Light in each of your\\nthoughts, your words and your actions.”\\n\\n_ 9 --\\n\\x0c<h4>Footer Page: 9</h4>\\n<h4>Header Page: 10</h4>\\nROSICRUCIAN ORDER, AMORC ......c.cccccscscssssssssesseees ATRIUM 1 -- INITIATION\\n\\nPostulant:\\n\\nClass Master:\\n\\nPostulant:\\n\\nClass Master:\\n\\nRFO04-1/01423\\n\\n(After following these instructions, be seated and,\\nafter pausing about one minute, continue this ritual.)\\n\\n(Read the following in a low voice.)\\n\\nToo long, O Postulant, have you remained in\\nignorance of your own mystery and an abyss has\\neventually formed between your soul and your\\nbody, between the Rose living within you and the\\nCross you must carry. The time has come for you\\nto fill this abyss, for such is the condition you must\\nattain if you want to make yourself the master of\\nyour life. To help you, I will now leave you alone\\nwith yourself and I will ask you some questions,\\nto which you must reply by facing your conscience.\\nIn that way a communion will be established\\nbetween your Outer and your Inner Self and from\\nthat communion will arise a flame which will light\\nyour path throughout the coming months. Be\\nsincere in your replies for, although it is possible\\nto deceive others, one cannot lie to oneself.\\n\\n(Read the questions which follow and while observing\\nyour reflection in the mirror, answer each one of\\nthem.)\\n\\n‘(Do you wish to know the mystery of your being?”\\n(Answer)\\n\\n‘‘Why do you seek knowledge of this mystery?”\\n(Answer)\\n\\n“Do you promise to listen to the voice of your Inner\\nSelf?”’ (Answer)\\n\\n-- 10 --\\n\\x0c<h4>Footer Page: 10</h4>\\n<h4>Header Page: 11</h4>\\nROSICRUCIAN ORDER, AMORC .u....c.cscscscsscssssesssssseees ATRIUM 1 -- INITIATION\\n\\nPostulant:\\n\\nClass Master:\\n\\nPostulant:\\n\\nRFO04-1/01423\\n\\n“Will you heed its warnings?” (Answer)\\n\\n“Do you agree to make it your guardian and your\\nguide?” (Answer)\\n\\n‘*Will you go as often as possible to this Sanctum?”’\\n(Answer)\\n\\n(After answering each of these questions, meditate a\\nfew moments on the inner communion they have\\nenabled you to establish. That being done, continue.)\\n\\n(Read the following sentences with solemnity.)\\n\\nSince you have agreed, before your own reflection,\\nthat is to say, before your conscience, to answer\\nthe questions submitted to you, and since the\\nreplies you gave to them satisfied your Inner Self,\\nI affirm, before the Rose Cross and the Masters\\nof our tradition, that you are worthy of being\\nadmitted to the Neophyte Section of the Ancient\\nand Mystical Order of the Rose Cross. However,\\nto certify this admission in your heart, you must\\nacquaint yourself with the oath appended to this\\ninitiation and carefully read each of its points.\\nThat being done, you will sign it and send it to the\\nDepartment of Instruction. It will thus act as the\\nwitness to the sacred oath you will take when\\nfacing your own conscience.\\n\\n(Read the Neophyte’s Great Oath and sign it. Then\\ncontinue the reading of this ritual.)\\n\\x0c<h4>Footer Page: 11</h4>\\n<h4>Header Page: 12</h4>\\nROSICRUCIAN ORDER, AMORC ......c.cccccscscssssssssesseees ATRIUM 1 -- INITIATION\\n\\nClass Master: (Read the following in a low voice.)\\n\\nNeophyte:\\n\\nRFO04-1/01423\\n\\nRemember forever, O Neophyte, the moments you\\nhave just lived in the presence of the Invisible\\nMasters of our brotherhood and in the presence\\nof the Supreme Intelligence which prevails in the\\nentire Creation. Above all, always keep the\\nmemory of the communion you have just\\nestablished with your Inner Self which, as long as\\nyou keep your promises, will ever be your guide,\\nyour guardian and, under the aegis of the Rose\\nCross, your protector. Whenever you want to\\nspeak to it and to listen to it, withdraw to this\\nSanctum and, far from noise and turmoil, let\\nyourself be penetrated by its light.\\n\\nBefore we part, I must give you the traditional\\npassword which is associated with the First Portal\\nyou have just passed. That word is REFLECTION.\\nLearn it, for you may some day be asked for it,\\nand remember to Keep it secret always. Now arise\\nand extinguish the two candles of your Sanctum,\\nbeginning with the one on your left. Then close\\nthis special initiation by making the Rosicrucian\\nSign of the Cross and saying:\\n\\n‘“‘Before the Sign of the Cross and in the presence\\nof the Guardian of this Sanctum, I close this\\nceremony. May the Greater Light of Cosmic\\nWisdom enlighten me forever, so that I may be\\nworthy of the Knowledge which will be entrusted\\nto me. So Mote It Be!”’\\n\\n(Follow the instructions just given and then maintain\\nsilence for a few minutes. Now write a brief report of\\n\\n_12--\\n\\x0c<h4>Footer Page: 12</h4>\\n<h4>Header Page: 13</h4>\\nROSICRUCIAN ORDER, AMORC .u....c.cscscscsscssssesssssseees ATRIUM 1 -- INITIATION\\n\\nthe ritual on the form provided and mail it, along with\\nthe Neophyte’s Great Oath, to the Department of\\nInstruction. Having done that, leave your Sanctum or\\ndisassemble it if it is only temporary.)\\n\\nYou may recall from the Neophyte Guide that the third element of a true\\ninitiation was said to “exact from us a sacred obligation or promise which\\nwe make to ourselves or to others, that we will try to fulfill our aspira-\\ntions”. The Neophyte’s Great Oath (included as a separate sheet of pa-\\nper) is such a commitment. It is not a contract or pledge to the Order but\\nrather a pledge you make to yourself. When you have signed it, fill in the\\nInitiation Report and send both of these to Grand Lodge within 24 hours\\nof conducting the ritual.\\n\\nWORDS OF THE ILLUMINED\\n\\n“Many are the vistas that are revealed to him\\nwho has attained the mountain top”\\n\\nIt is often difficult, when considering the founders of spiritual\\ndoctrines which marked the evolution of humanity, to make a\\ndistinction between the historical truths and legendary aspects of\\ntheir lives, for such beings are always described as demigods. What\\nis beyond doubt though, are the words of wisdom they uttered which\\nare a reflection of the Cosmic Illumination which raised them above\\nother individuals of their time. Featured here are some of the thoughts\\nand wisdom of the [luminatus whose biography introduces this\\nspecial monograph.\\n\\nHYMN TO ATON\\n\\nO Solar Disk, Beginning of Life!\\nWhen thou risest in the eastern horizon of heaven,\\n\\nRFO04-1/01423 -- 13 --\\n\\x0c<h4>Footer Page: 13</h4>\\n<h4>Header Page: 14</h4>\\nROSICRUCIAN ORDER, AMORC ......c.cccccscscssssssssesseees ATRIUM 1 -- INITIATION\\n\\nThou fillest every land with thy beauty.\\n\\nThou art beautiful, great, glittering, high above the earth;\\nThy rays, they encompass the lands, even all thou hast made.\\nO Ra, although thou art afar, thy rays reach down to earth;\\nAlthough thou art present in the eyes of men,\\n\\nThey do not know the course thou followest in the heaven.\\nWhen thou settest in the western horizon of heaven,\\n\\nThe world is in darkness like the dead.\\n\\nPeople sleep in their chambers,\\n\\nAt night, every lion cometh forth from his den,\\n\\nAll serpents, they sting.\\n\\nDarkness reigns.\\n\\nThe world is in silence,\\n\\nFor the sun has gone to rest in his horizon.\\n\\nBright is the earth,\\n\\nWhen thou risest in the horizon.\\n\\nThe darkness is banished.\\n\\nWhen thou sendest forth thy rays,\\n\\nThe Two Lands are in daily festivity.\\n\\nMen awake and stand upon their feet,\\n\\nFor thou hast raised them up.\\n\\nAfter purifying their bodies,\\n\\nThey uplift their arms in adoration to thy dawning.\\n\\nAll cattle rest upon their herbage,\\n\\nThe birds fly away from their nests,\\n\\nTheir wings uplifted in adoration to thy Vital Force.\\n\\nAll beings live when thou hast risen for them.\\n\\nThe barques sail upstream and downstream the Nile alike.\\nEvery highway is open because thou hast dawned.\\n\\nThe fish in the river leap up before thee,\\n\\nAnd thy rays are in the midst of the great sea.\\n\\nO Thou, sole God, beside whom there is no other, whose symbol is the sun,\\nThou didst create the earth according to Thy heart while Thou wast alone:\\nMen, cattle and all wild beasts that walk, fly, swim, or crawl.\\nThou settest every man in his place;\\n\\nThou suppliest their necessities.\\n\\nFor every one of Thy children has his possessions,\\n\\nRFO04-1/01423 -- 14 --\\n\\x0c<h4>Footer Page: 14</h4>\\n<h4>Header Page: 15</h4>\\nROSICRUCIAN ORDER, AMORC .u....c.cscscscsscssssesssssseees ATRIUM 1 -- INITIATION\\n\\nAnd his days are reckoned.\\n\\nThou art he who createst the man-child in woman,\\nWho maketh seed in man,\\n\\nWho giveth life to the son in the body of his mother,\\nWho soothest him that he may not weep,\\n\\nWho giveth breath to animate everyone that he maketh.\\n.. on the day of his birth,\\n\\nThou openest his mouth in speech.\\n\\nTheir tongues are divers in speech;\\n\\nTheir forms likewise and their skins,\\n\\nFor Thou divider, hast divided the peoples into races.\\nBut to them all, Thou art the same and ever present.\\n\\nRFO04-1/01423 -- 15--\\n\\x0c<h4>Footer Page: 15</h4>\\n<h4>Header Page: 16</h4>\\nConsecrated to truth and\\ndedicated to every Rosicrucian\\n\\nIssued by the English Grand Lodge for Europe, the Middle East\\nand Africa of the Ancient and Mystical Order, Rosae Crucis\\nGreenwood Gate, Blackhill, Crowborough TN6 1 XE, United Kingdom\\n\\nORDO ROSAE CRUCIS”\\n\\n™\\n\\nThe above symbol traditionally denotes the First Atrium of AMORC Ss\\nNeophyte Section. This symbol is actually composed of three symbols:\\na triangle, a square and a dot. These ancient geometric figures were\\nused for centuries by mystics, philosophers and sages to symbolise\\ncertain natural and universal laws. The triangle designates perfection,\\nthe square symbolises stability and the dot represents the beginning\\nor birth. The small sign found at the apex of the triangle is the letter\\nYod, the tenth character of the Hebrew alphabet. In Hebrew, it also\\nsymbolises the number 10.\\n\\nThis monograph, in any form whatsoever, whether on paper or stored electronically, is not\\nsubject to purchase or sale, and may not be reproduced in any form without the written\\npermission of the copyright holder. Any electronic display of, or any attempt at purchase or\\nsale of this monograph may make both the purchaser and the seller liable to civil liability.\\n\\nThis monograph and its subject matter is the copyright of the Supreme Grand Lodge of the Rosicrucian\\nOrder AMORC (\"SGL\") under the emblem appearing on the front cover which is legally protected\\nand ipso facto protects all electronically displayed, printed, photocopied, photographed, engraved or\\ntyped copies of its cover and contents. Limited time right of use is sold only to the receiving member\\nof AMORC, though legal title, ownership, right of ownership and right of display remain those of the\\nSGL, to which it must be returned on simple demand. All matters covered in this monograph as well\\nas symbols, titles and passwords, are strictly confidential and are communicated to the member of\\nAMORC for his or her sole and exclusive information. Any other use or attempted use, may terminate\\nactive and regular affiliation with AMORC which is the only organisation authorised to publish or\\n\\ndisplay this monograph in any form.\\n\\n© Supreme Grand Lodge of AMORC\\n\\x0c<h4>Footer Page: 16</h4>\\n'"
      ]
     },
     "execution_count": 109,
     "metadata": {},
     "output_type": "execute_result"
    }
   ],
   "source": [
    "content"
   ]
  },
  {
   "cell_type": "code",
   "execution_count": 110,
   "id": "stuck-pressing",
   "metadata": {
    "ExecuteTime": {
     "end_time": "2021-06-10T20:30:01.826498Z",
     "start_time": "2021-06-10T20:30:01.043081Z"
    }
   },
   "outputs": [],
   "source": [
    "doc = nlp(content)"
   ]
  },
  {
   "cell_type": "code",
   "execution_count": 111,
   "id": "exotic-repository",
   "metadata": {
    "ExecuteTime": {
     "end_time": "2021-06-10T20:30:17.088328Z",
     "start_time": "2021-06-10T20:30:17.081968Z"
    }
   },
   "outputs": [],
   "source": [
    "docx = doc"
   ]
  },
  {
   "cell_type": "code",
   "execution_count": 90,
   "id": "packed-river",
   "metadata": {
    "ExecuteTime": {
     "end_time": "2021-06-10T17:25:34.158286Z",
     "start_time": "2021-06-10T17:25:34.125767Z"
    }
   },
   "outputs": [
    {
     "name": "stdout",
     "output_type": "stream",
     "text": [
      "<h4>Header Page: 1</h4>\n",
      "\\AAANNAANAAAAANAAAAARANAAAAAANAAAAAAANAAAARAANAAARAAAAAARAAAAAAA Ae,\n",
      "\n",
      "EZ Lp\n",
      "\n",
      "SS SSS 0 RE RETR PORES\n",
      "EE AN) RSS\n",
      "\n",
      "ROSICRUCIAN ORDER”\n",
      "A.M.O.R.C. *\n",
      "\n",
      "MASTER\n",
      "MONOGRAPH\n",
      "\n",
      " -----\n",
      "NEOPHYTE SECTION\n",
      "\n",
      "ATRIUM 1 — INITIATION\n",
      "\n",
      " \n",
      "\f",
      "<h4>Footer Page: 1</h4>\n",
      "<h4>Header Page: 2</h4>\n",
      " -----\n",
      "ROSICRUCIAN INITIATION\n",
      "ATRIUM 1\n",
      "\n",
      "“Initiation brings into the realm of reason the purpose and into the\n",
      "realm of emotion the spirit of one’s introduction into the Mysteries.” -----\n",
      "\n",
      "\n",
      "THE STORY OF LIGHT -----\n",
      "\n",
      "\n",
      "All the great avatars who gave to humanity spiritual doctrines or a\n",
      "moral code enabling men and women to commune with the Cosmic\n",
      "and receive its [I}umination, were Torch Bearers of the Great Light\n",
      "which, thanks to them, lit the world through history’s darkest periods. -----\n",
      "\n",
      " -----\n",
      "Without their help it is likely that the human race would not have\n",
      "advanced to its present level of understanding and tolerance, even\n",
      "though we must recognise that humanity still has far to go to be a\n",
      "model of Divine Perfection on earth. -----\n",
      "In concordance with this\n",
      "initiation, whose purpose is to awaken your spiritual being, we offer\n",
      "this short biography of one of those great avatars who, through time\n",
      "and space, transmitted Light to humanity. -----\n",
      "\n",
      "\n",
      "AKHNATON\n",
      " -----\n",
      "(AMENHOTEP IV)\n",
      "\n",
      " -----\n",
      "According to the archives of our Order, Amenhotep IV was born in\n",
      "the royal palace of Thebes on November 24, 1378 B.C. -----\n",
      "He was the\n",
      "son of Amenhotep III and of Queen Tia. -----\n",
      "In 1367, when he was only\n",
      "11 years old, he became the pharaoh of Egypt. -----\n",
      "At a young age he\n",
      "married Nefertiti (whose name means “The Coming of Beauty’’) with\n",
      "whom he had seven daughters. -----\n",
      "\n",
      "\n",
      " -----\n",
      "From youth onward Amenhotep IV scorned the superstitious practices\n",
      "of the priests of Amon. -----\n",
      "He considered the priests to be impostors\n",
      "who took advantage of the credulity of the people so as to exert\n",
      "absolute power over them. -----\n",
      "Once he was vested with the required\n",
      "authority, Amenhotep opposed the priesthood with unprecedented\n",
      "\n",
      "RFO04-1/01423 -- 2 --\n",
      "\f",
      "<h4>Footer Page: 2</h4>\n",
      "<h4>Header Page: 3</h4>\n",
      "ROSICRUCIAN ORDER, AMORC .u -----\n",
      "....c.cscscscsscssssesssssseees ATRIUM 1 -- INITIATION\n",
      "\n",
      "determination, for he was convinced that the entire universe was the\n",
      "work of One God, rather than a multitude of gods and goddesses\n",
      "that one must adore by means of multiple sacrifices. -----\n",
      "Thus, for the\n",
      "first time in recorded history, monotheism supplanted a polytheism\n",
      "which had spread over the entire surface of the earth. -----\n",
      "For centuries,\n",
      "Amenhotep IV was represented as a personage afflicted by madness\n",
      "but historians now agree that this pharaoh originated a cultural and\n",
      "spiritual revolution which contributed considerably to the evolution\n",
      "of humanity. -----\n",
      "\n",
      "\n",
      " -----\n",
      "The priests of Heliopolis, indeed the priests throughout all of Egypt,\n",
      "thought that the Sun, whom they called Ra, was the God of all gods. -----\n",
      "\n",
      " -----\n",
      "They worshipped Ra mostly under the name of Amon-Ra. -----\n",
      "For\n",
      "Amenhotep IV, the sun was only the visible symbol of the invisible\n",
      " -----\n",
      "God whom he called Aton. -----\n",
      "He changed his own name, which means\n",
      "“Amon Is Satisfied,” into Akhnaton, meaning “Disciple of Aton.” -----\n",
      "\n",
      " -----\n",
      "Akhnaton considered this God to be a Unique Intelligence manifesting\n",
      "in the whole universe and penetrating all things. -----\n",
      "He thought the sun\n",
      "to be an appropriate symbol, because through its solar rays vitality\n",
      "came to all earthly creatures and because the One God was present\n",
      "in the heart of everyone. -----\n",
      "Aton was therefore often represented by a\n",
      "solar disk, the beams of which ended in hands, thus symbolising the\n",
      "Aton’s desire to spread blessings on all humanity. -----\n",
      "Obviously, these\n",
      "were advanced philosophical concepts for that day and age. -----\n",
      "\n",
      "\n",
      "Akhnaton soon left Thebes, Egypt’s traditional capital. -----\n",
      "He built a\n",
      "splendid new capital named Akhetaton (near modern-day Tell el-\n",
      "Amarna in central Egypt) which, naturally, was dedicated to his new\n",
      "religion. -----\n",
      "He summoned to Akhetaton the most learned men and\n",
      "women of his time and with their help laid the foundations of a\n",
      "mystical brotherhood whose ideals and teachings were to\n",
      "spread over the entire surface of the earth. -----\n",
      "In the heart of\n",
      " -----\n",
      "Akhetaton he built a temple in which a brotherhood met\n",
      "regularly to study the arts, sciences and mysteries. -----\n",
      "Our\n",
      "\n",
      "RFO04-1/01423 -- 3 --\n",
      "\f",
      "<h4>Footer Page: 3</h4>\n",
      "<h4>Header Page: 4</h4>\n",
      " -----\n",
      "ROSICRUCIAN ORDER, AMORC ......c.cccccscscssssssssesseees ATRIUM 1 -- INITIATION\n",
      "\n",
      " -----\n",
      "Order is the present trustee of all the knowledge that was accumulated\n",
      "in that place, of which only a few ruins remain today. -----\n",
      "\n",
      "\n",
      " -----\n",
      "Throughout his life, the greatest desire of Akhnaton was to behold\n",
      "the face of the living and unique God he had striven to serve. -----\n",
      "Our\n",
      "archives report that on July 24, 1350 B.C., in the late afternoon, he\n",
      "passed through transition, with his right hand held toward the heavens,\n",
      "symbolising the ultimate ascent for which he had prepared himself. -----\n",
      "\n",
      " -----\n",
      "He was 28 years old. -----\n",
      "\n",
      "\n",
      "DEAR FRATRES -----\n",
      "AND SORORES\n",
      "\n",
      "We hope that you fully comprehend the symbolic importance of the\n",
      "Rosicrucian Sanctum and that you have determined where you will\n",
      "establish your own. -----\n",
      "No obligation is involved in this matter, for\n",
      "according to our Order’s traditional rules, you remain free to live\n",
      " -----\n",
      "Rosicrucian philosophy as you understand it -----\n",
      "and as you experience\n",
      " -----\n",
      "it. -----\n",
      "However, the concept of the Sanctum is one of the most ancient in\n",
      "the history of our mystical brotherhood and, for centuries,\n",
      "Rosicrucians have granted it considerable importance. -----\n",
      "For many the\n",
      "Sanctum is a place they love dearly because of the symbolism they\n",
      "have ascribed to it and because the Sanctum is where they take great\n",
      "pleasure in studying their monographs and in meditating on the\n",
      "spiritual values of existence. -----\n",
      "When the moment comes for you, we\n",
      "will give further explanations concerning the Rosicrucian Sanctum. -----\n",
      "\n",
      " -----\n",
      "At that time we will ask that you consecrate it with a special ritual\n",
      "which will make it a place the vibratory nature of which gives it a\n",
      "mystical dimension benefitting you on all levels. -----\n",
      "\n",
      "\n",
      " -----\n",
      "Considering the importance attached by our tradition to\n",
      "\n",
      "the Rosicrucian Sanctum, we will presume that you have\n",
      "now established your Sanctum, or at the very least, that\n",
      "\n",
      "RFO04-1/01423 -- 4 --\n",
      "\f",
      "<h4>Footer Page: 4</h4>\n",
      "<h4>Header Page: 5</h4>\n",
      " -----\n",
      "ROSICRUCIAN ORDER, AMORC .u -----\n",
      "....c.cscscscsscssssesssssseees ATRIUM 1 -- INITIATION\n",
      "\n",
      "you will obtain all that is necessary (i.e. a table or a shelf, a mirror\n",
      "and two candles) when you conduct your study period. -----\n",
      "To partake\n",
      "effectively in a Rosicrucian initiation, it is imperative that you have\n",
      "the benefit of some sort of Sanctum, be it permanent or temporary.\n",
      " -----\n",
      "However, if it is absolutely impossible for you to have at your disposal\n",
      "a Sanctum for your weekly work, you must continue your studies. -----\n",
      "\n",
      " -----\n",
      "What matters most is to work on a regular basis and to put all your\n",
      "heart into the study and practice of our teachings. -----\n",
      "With this intent,\n",
      "read the following ritual as though it were a monograph. -----\n",
      "But as soon\n",
      "as you can have a Sanctum at your disposal, you must conduct this\n",
      "initiation, so that you may fully experience the Rosicrucian tradition. -----\n",
      "\n",
      "\n",
      "Included in this special monograph is the Neophyte’s Great Oath.\n",
      " -----\n",
      "Theoretically, it must be read and signed at a given moment in the\n",
      "following initiation. -----\n",
      "However, if you cannot conduct the initiation\n",
      "right away for the reasons we have just explained, read it just the\n",
      "same, sign it and send it with your Initiation Report to the Department\n",
      "of Instruction. -----\n",
      "(Companion Members: please photocopy both the\n",
      "Initiation Report and the Great Oath before they are filled out or\n",
      "signed. -----\n",
      "Then using these copies, follow the instructions given above.) -----\n",
      "\n",
      "\n",
      "Before proceeding with the following ritual, we must once again\n",
      "emphasise that the Rosicrucian initiation has no connection\n",
      "whatsoever with magical practices, for AMORC has never taught\n",
      "ceremonial magic. -----\n",
      "The Order is firmly opposed to such practices as\n",
      "black magic or voodoo, for its leaders know from experience -----\n",
      "that\n",
      "such have their roots in superstition, which in all its forms and aspects\n",
      "generates fanaticism and ignorance. -----\n",
      "Rosicrucian tradition represents,\n",
      "rather, a path of freedom and knowledge. -----\n",
      "Hence, all of its teachings\n",
      "and initiations have only one goal: to restore to humanity what is our\n",
      "due, or in other words, to restore to humanity the mastery\n",
      "of laws which have always governed life, whether they\n",
      "be manifested on this mundane plane or not. -----\n",
      "\n",
      "\n",
      " -----\n",
      "RFO04-1/01423 -_5--\n",
      "\f",
      "<h4>Footer Page: 5</h4>\n",
      "<h4>Header Page: 6</h4>\n",
      " -----\n",
      "ROSICRUCIAN ORDER, AMORC ......c.cccccscscssssssssesseees ATRIUM 1 -- INITIATION\n",
      "\n",
      " -----\n",
      "It should also be kept in mind that Rosicrucian rituals have no\n",
      "religious character. -----\n",
      "Their goal, as we already stated, is to enable each\n",
      "member to gain greater awareness of his or her spiritual nature and\n",
      "to establish a more intimate dialogue between the Outer Self and the\n",
      "Inner Self. -----\n",
      "In fact, the key to the Mastery of Life lies in the ability to\n",
      "create this dialogue, for this is what gives the individual that strength,\n",
      "will and power to manifest on earth the grandeur and the glory of\n",
      "intelligence which vibrates both in the individual’s innermost self\n",
      "and in the heart of the most remote galaxies. -----\n",
      "Rosicrucian initiation\n",
      "thus constitutes an ideal path to “better know oneself and thus to\n",
      "know the universe and the gods”. -----\n",
      "\n",
      "\n",
      "PRELIMINARY INSTRUCTIONS -----\n",
      "\n",
      "\n",
      " -----\n",
      "To complete the following initiation ritual it is imperative that your\n",
      "Sanctum be properly equipped and that you be in a state of perfect\n",
      "peace, without risk of being disturbed. -----\n",
      "\n",
      "\n",
      "e = -----\n",
      "The lighting of the room in which you have set up your Sanctum\n",
      "must be as soft as possible. -----\n",
      "However, the light must be sufficient\n",
      "for you to read the instructions without difficulty. -----\n",
      "\n",
      "\n",
      "e -----\n",
      "The candles of your Sanctum must remain unlit prior to the ritual\n",
      " -----\n",
      "but you may burn a little incense. -----\n",
      "\n",
      "\n",
      "e Have a box of matches and a candle snuffer within reach, for\n",
      " -----\n",
      "they will be needed during your initiation. -----\n",
      "\n",
      "\n",
      "e -----\n",
      "Place a pen and a saucer holding a small amount of water on the\n",
      "altar of your Sanctum. -----\n",
      "\n",
      "\n",
      "In the ritual you are about to perform you must always\n",
      "imagine that you are being directed by a Class Master\n",
      "\n",
      "and that he or she is present on the invisible plane. -----\n",
      "When\n",
      "\n",
      "RF004-1/01423 -- § --\n",
      "\f",
      "<h4>Footer Page: 6</h4>\n",
      "<h4>Header Page: 7</h4>\n",
      " -----\n",
      "ROSICRUCIAN ORDER, AMORC .u -----\n",
      "....c.cscscscsscssssesssssseees ATRIUM 1 -- INITIATION\n",
      "\n",
      "you feel ready to begin this initiation, sit facing your Sanctum mirror\n",
      "and, after a few minutes of meditation, begin to read the following. -----\n",
      "\n",
      "\n",
      "Class Master:\n",
      "\n",
      " -----\n",
      "Postulant:\n",
      "\n",
      "Class Master:\n",
      "\n",
      "RFO04-1/01423\n",
      "\n",
      "RITUAL\n",
      "\n",
      " -----\n",
      "(Read the following in a low voice and imagine that\n",
      "your Class Master is speaking to you.) -----\n",
      "\n",
      "\n",
      "Beloved Postulant, Greetings on the three points\n",
      "of our Sacred Triangle! -----\n",
      "It is with joy that I will\n",
      "now guide you in this initiation which will make\n",
      "you a Neophyte of our Order and, in that capacity,\n",
      "a full-fledged member of our mystical\n",
      "brotherhood. -----\n",
      "I ask you to give all your attention,\n",
      "all your devotion, all your trust and all your\n",
      "sincerity to this symbolic ceremony, so that you\n",
      "may pass this first Portal in all purity and perfect\n",
      "dignity. -----\n",
      "\n",
      "\n",
      "Light the candle on your left and, immediately after\n",
      "having done so, say: “May this Sacred Light,\n",
      "symbol of the Greater Light of Cosmic Wisdom,\n",
      "cast its radiance in the midst of darkness and\n",
      "illuminate my path.” -----\n",
      "\n",
      "\n",
      "(Carry out these instructions without the least mental\n",
      "reservation and in an inner attitude as receptive as\n",
      "possible.) -----\n",
      "\n",
      "\n",
      " -----\n",
      "(Read the following, still imagining that your Class\n",
      "Master is guiding you in this ritual.) -----\n",
      "\n",
      "\n",
      "Beloved Postulant, now light the other candle and,\n",
      "immediately after having done so, say the\n",
      "following:\n",
      "\f",
      "<h4>Footer Page: 7</h4>\n",
      "<h4>Header Page: 8</h4>\n",
      "ROSICRUCIAN ORDER, AMORC ......c.cccccscscssssssssesseees ATRIUM 1 -- -----\n",
      "INITIATION\n",
      "\n",
      "Postulant:\n",
      "\n",
      "Class Master:\n",
      "\n",
      "RFO04-1/01423\n",
      "\n",
      "“Unto Light is added light, that my inner light,\n",
      "united with the Great Light of Cosmic Wisdom,\n",
      "may guide my steps out of the forest of errors\n",
      "where ignorance, superstition and suffering\n",
      "reign.” -----\n",
      "\n",
      "\n",
      "(Do what the Class Master has asked of you and then\n",
      "be seated. -----\n",
      "Meditate a few moments on what you have\n",
      "just said and done, then continue.) -----\n",
      "\n",
      "\n",
      "Know, O Postulant, that fire, from the most remote\n",
      "antiquity, has always symbolised the purification,\n",
      "the regeneration and the illumination which\n",
      "human consciousness receives when harmonising\n",
      "itself with Cosmic Consciousness. -----\n",
      "Many centuries\n",
      "ago, in some form or other, a sacred flame burned\n",
      "on the altar of many temples. -----\n",
      "It symbolised the\n",
      "Omnipresence, the Omnipotence and the\n",
      " -----\n",
      "Omniscience of the Divine Fire. -----\n",
      "And humans,\n",
      "because we possess that Divine Fire in our\n",
      "innermost being, are fascinated by the power\n",
      "which the flame exerts over us. -----\n",
      "\n",
      "\n",
      "Have you not noticed, O Postulant, how your\n",
      "fellow beings feel at peace and in communion of\n",
      "thought when they meditate together around the\n",
      "same hearth? -----\n",
      "That is so because the sight of fire\n",
      "sheds light on their soul, warms their heart and\n",
      "awakens within them the noblest sentiments. -----\n",
      "Of\n",
      "that you must always be conscious, for as long as\n",
      "you seek the Greater Light, your inner light will\n",
      "guide your steps.\n",
      "\n",
      " -----\n",
      "Now, Beloved Postulant, arise, lightly dip the tip\n",
      "\n",
      "8 --\n",
      "\f",
      "<h4>Footer Page: 8</h4>\n",
      "<h4>Header Page: 9</h4>\n",
      " -----\n",
      "ROSICRUCIAN ORDER, AMORC .u -----\n",
      "....c.cscscscsscssssesssssseees ATRIUM 1 -- INITIATION\n",
      "\n",
      " -----\n",
      "Postulant:\n",
      "\n",
      "Class Master:\n",
      "\n",
      "RFO04-1/01423\n",
      "\n",
      "of your right index finger in the water, draw a\n",
      "cross in the middle of your Sanctum mirror and\n",
      "say the following words:\n",
      "\n",
      "‘**Rosicrucian tradition states that when humans\n",
      "saluted the sunrise for the first time, we did so\n",
      "with our arms outstretched and as we were thus\n",
      "venerating the coming of the light of dawn, the\n",
      "shadow formed by our body on the ground had\n",
      "the appearance of a cross. -----\n",
      "This allegory has\n",
      "traversed centuries and the cross has thus become\n",
      "for mystics the symbol of the physical body and\n",
      "of the trials of earthly life which, symbolically, is\n",
      "but the shadow of Cosmic Life.” -----\n",
      "\n",
      "\n",
      "(Do and say what was asked of you.) -----\n",
      "\n",
      "\n",
      "(Continue your reading and pay careful attention to\n",
      "what is said.) -----\n",
      "\n",
      "\n",
      " -----\n",
      "Dip the tip of your right index finger in the water\n",
      "again, lightly draw a circle in the centre of the\n",
      "cross and read the following words:\n",
      "\n",
      "“By this circle is symbolised the Rose, which\n",
      "represents the human Soul in its gradual\n",
      "blossoming in contact with the mundane world. -----\n",
      "\n",
      " -----\n",
      "When the Rose is joined with the Cross, we become\n",
      "a vehicle of Cosmic Consciousness on earth and\n",
      "then participate in the advancement of the Great\n",
      "Work. -----\n",
      "Let the Rose Cross be for you the symbol\n",
      "of your own evolution and of your sincere desire\n",
      "to reflect the Greatest Light in each of your\n",
      "thoughts, your words and your actions.” -----\n",
      "\n",
      "\n",
      "_ 9 --\n",
      "\f",
      "<h4>Footer Page: 9</h4>\n",
      "<h4>Header Page: 10</h4>\n",
      " -----\n",
      "ROSICRUCIAN ORDER, AMORC ......c.cccccscscssssssssesseees ATRIUM 1 -- INITIATION\n",
      "\n",
      " -----\n",
      "Postulant:\n",
      "\n",
      "Class Master:\n",
      "\n",
      "Postulant:\n",
      "\n",
      "Class Master:\n",
      "\n",
      "RFO04-1/01423\n",
      "\n",
      "(After following these instructions, be seated and,\n",
      "after pausing about one minute, continue this ritual.) -----\n",
      "\n",
      "\n",
      "(Read the following in a low voice.)\n",
      "\n",
      " -----\n",
      "Too long, O Postulant, have you remained in\n",
      "ignorance of your own mystery and an abyss has\n",
      "eventually formed between your soul and your\n",
      "body, between the Rose living within you and the\n",
      " -----\n",
      "Cross you must carry. -----\n",
      "The time has come for you\n",
      "to fill this abyss, for such is the condition you must\n",
      "attain if you want to make yourself the master of\n",
      "your life. -----\n",
      "To help you, I will now leave you alone\n",
      "with yourself and I will ask you some questions,\n",
      "to which you must reply by facing your conscience. -----\n",
      "\n",
      " -----\n",
      "In that way a communion will be established\n",
      "between your Outer and your Inner Self and from\n",
      "that communion will arise a flame which will light\n",
      "your path throughout the coming months. -----\n",
      "Be\n",
      "sincere in your replies for, although it is possible\n",
      "to deceive others, one cannot lie to oneself. -----\n",
      "\n",
      "\n",
      "(Read the questions which follow and while observing\n",
      "your reflection in the mirror, answer each one of\n",
      "them.) -----\n",
      "\n",
      "\n",
      "‘(Do you wish to know the mystery of your being?” -----\n",
      "\n",
      " -----\n",
      "(Answer) -----\n",
      "\n",
      "\n",
      "‘‘Why do you seek knowledge of this mystery?” -----\n",
      "\n",
      " -----\n",
      "(Answer)\n",
      "\n",
      "“Do you promise to listen to the voice of your Inner\n",
      "Self?”’ (Answer)\n",
      "\n",
      "-- 10 --\n",
      "\f",
      "<h4>Footer Page: 10</h4>\n",
      "<h4>Header Page: 11</h4>\n",
      " -----\n",
      "ROSICRUCIAN ORDER, AMORC .u -----\n",
      "....c.cscscscsscssssesssssseees ATRIUM 1 -- INITIATION\n",
      "\n",
      " -----\n",
      "Postulant:\n",
      "\n",
      "Class Master:\n",
      "\n",
      "Postulant:\n",
      "\n",
      "RFO04-1/01423\n",
      "\n",
      "“Will you heed its warnings?” -----\n",
      "(Answer)\n",
      "\n",
      "“Do you agree to make it your guardian and your\n",
      "guide?” -----\n",
      "(Answer)\n",
      "\n",
      "‘*Will you go as often as possible to this Sanctum?”’\n",
      " -----\n",
      "(Answer)\n",
      "\n",
      "(After answering each of these questions, meditate a\n",
      "few moments on the inner communion they have\n",
      "enabled you to establish. -----\n",
      "That being done, continue.) -----\n",
      "\n",
      "\n",
      "(Read the following sentences with solemnity.) -----\n",
      "\n",
      "\n",
      " -----\n",
      "Since you have agreed, before your own reflection,\n",
      "that is to say, before your conscience, to answer\n",
      "the questions submitted to you, and since the\n",
      "replies you gave to them satisfied your Inner Self,\n",
      " -----\n",
      "I affirm, before the Rose Cross and the Masters\n",
      "of our tradition, that you are worthy of being\n",
      "admitted to the Neophyte Section of the Ancient\n",
      "and Mystical Order of the Rose Cross. -----\n",
      "However,\n",
      "to certify this admission in your heart, you must\n",
      "acquaint yourself with the oath appended to this\n",
      "initiation and carefully read each of its points. -----\n",
      "\n",
      " -----\n",
      "That being done, you will sign it and send it to the\n",
      "Department of Instruction. -----\n",
      "It will thus act as the\n",
      "witness to the sacred oath you will take when\n",
      "facing your own conscience. -----\n",
      "\n",
      "\n",
      "(Read the Neophyte’s Great Oath and sign it. -----\n",
      "Then\n",
      "continue the reading of this ritual.) -----\n",
      "\n",
      "\f",
      "<h4>Footer Page: 11</h4>\n",
      "<h4>Header Page: 12</h4>\n",
      " -----\n",
      "ROSICRUCIAN ORDER, AMORC ......c.cccccscscssssssssesseees ATRIUM 1 -- INITIATION\n",
      "\n",
      "Class Master: (Read the following in a low voice.) -----\n",
      "\n",
      "\n",
      "Neophyte:\n",
      "\n",
      "RFO04-1/01423\n",
      "\n",
      "Remember forever, O Neophyte, the moments you\n",
      "have just lived in the presence of the Invisible\n",
      "Masters of our brotherhood and in the presence\n",
      "of the Supreme Intelligence which prevails in the\n",
      "entire Creation. -----\n",
      "Above all, always keep the\n",
      "memory of the communion you have just\n",
      "established with your Inner Self which, as long as\n",
      "you keep your promises, will ever be your guide,\n",
      "your guardian and, under the aegis of the Rose\n",
      "Cross, your protector. -----\n",
      "Whenever you want to\n",
      "speak to it and to listen to it, withdraw to this\n",
      "Sanctum and, far from noise and turmoil, let\n",
      "yourself be penetrated by its light. -----\n",
      "\n",
      "\n",
      "Before we part, I must give you the traditional\n",
      "password which is associated with the First Portal\n",
      "you have just passed. -----\n",
      "That word is REFLECTION. -----\n",
      "\n",
      " -----\n",
      "Learn it, for you may some day be asked for it,\n",
      "and remember to Keep it secret always. -----\n",
      "Now arise\n",
      "and extinguish the two candles of your Sanctum,\n",
      "beginning with the one on your left. -----\n",
      "Then close\n",
      "this special initiation by making the Rosicrucian\n",
      "Sign of the Cross and saying:\n",
      "\n",
      "‘“‘Before the Sign of the Cross and in the presence\n",
      "of the Guardian of this Sanctum, I close this\n",
      "ceremony. -----\n",
      "May the Greater Light of Cosmic\n",
      "Wisdom enlighten me forever, so that I may be\n",
      "worthy of the Knowledge which will be entrusted\n",
      "to me. -----\n",
      "So Mote It Be!”’\n",
      "\n",
      "(Follow the instructions just given and then maintain\n",
      "silence for a few minutes. -----\n",
      "Now write a brief report of\n",
      "\n",
      "_12--\n",
      "\f",
      "<h4>Footer Page: 12</h4>\n",
      "<h4>Header Page: 13</h4>\n",
      "ROSICRUCIAN ORDER, AMORC .u.... -----\n",
      "c.cscscscsscssssesssssseees ATRIUM 1 -- INITIATION\n",
      "\n",
      "the ritual on the form provided and mail it, along with\n",
      "the Neophyte’s Great Oath, to the Department of\n",
      "Instruction. -----\n",
      "Having done that, leave your Sanctum or\n",
      "disassemble it if it is only temporary.) -----\n",
      "\n",
      "\n",
      "You may recall from the Neophyte Guide that the third element of a true\n",
      "initiation was said to “exact from us a sacred obligation or promise which\n",
      "we make to ourselves or to others, that we will try to fulfill our aspira-\n",
      "tions”. -----\n",
      "The Neophyte’s Great Oath (included as a separate sheet of pa-\n",
      "per) is such a commitment. -----\n",
      "It is not a contract or pledge to the Order but\n",
      "rather a pledge you make to yourself. -----\n",
      "When you have signed it, fill in the\n",
      "Initiation Report and send both of these to Grand Lodge within 24 hours\n",
      "of conducting the ritual. -----\n",
      "\n",
      "\n",
      " -----\n",
      "WORDS OF THE ILLUMINED\n",
      "\n",
      "“Many are the vistas that are revealed to him\n",
      "who has attained the mountain top”\n",
      "\n",
      " -----\n",
      "It is often difficult, when considering the founders of spiritual\n",
      "doctrines which marked the evolution of humanity, to make a\n",
      "distinction between the historical truths and legendary aspects of\n",
      "their lives, for such beings are always described as demigods. -----\n",
      "What\n",
      "is beyond doubt though, are the words of wisdom they uttered which\n",
      "are a reflection of the Cosmic Illumination which raised them above\n",
      "other individuals of their time. -----\n",
      "Featured here are some of the thoughts\n",
      "and wisdom of the [luminatus whose biography introduces this\n",
      "special monograph. -----\n",
      "\n",
      "\n",
      "HYMN TO ATON\n",
      "\n",
      " -----\n",
      "O Solar Disk, Beginning of Life! -----\n",
      "\n",
      " -----\n",
      "When thou risest in the eastern horizon of heaven,\n",
      "\n",
      "RFO04-1/01423 -- 13 --\n",
      "\f",
      "<h4>Footer Page: 13</h4>\n",
      "<h4>Header Page: 14</h4>\n",
      " -----\n",
      "ROSICRUCIAN ORDER, AMORC ......c.cccccscscssssssssesseees ATRIUM 1 -- INITIATION\n",
      "\n",
      " -----\n",
      "Thou fillest every land with thy beauty. -----\n",
      "\n",
      "\n",
      " -----\n",
      "Thou art beautiful, great, glittering, high above the earth;\n",
      " -----\n",
      "Thy rays, they encompass the lands, even all thou hast made. -----\n",
      "\n",
      " -----\n",
      "O Ra, although thou art afar, thy rays reach down to earth;\n",
      " -----\n",
      "Although thou art present in the eyes of men,\n",
      "\n",
      "They do not know the course thou followest in the heaven. -----\n",
      "\n",
      " -----\n",
      "When thou settest in the western horizon of heaven,\n",
      "\n",
      "The world is in darkness like the dead. -----\n",
      "\n",
      "\n",
      "People sleep in their chambers,\n",
      "\n",
      "At night, every lion cometh forth from his den,\n",
      "\n",
      "All serpents, they sting. -----\n",
      "\n",
      "\n",
      "Darkness reigns. -----\n",
      "\n",
      "\n",
      "The world is in silence,\n",
      "\n",
      "For the sun has gone to rest in his horizon. -----\n",
      "\n",
      "\n",
      " -----\n",
      "Bright is the earth,\n",
      "\n",
      "When thou risest in the horizon. -----\n",
      "\n",
      "\n",
      "The darkness is banished. -----\n",
      "\n",
      "\n",
      "When thou sendest forth thy rays,\n",
      "\n",
      "The Two Lands are in daily festivity. -----\n",
      "\n",
      "\n",
      "Men awake and stand upon their feet,\n",
      "\n",
      "For thou hast raised them up. -----\n",
      "\n",
      "\n",
      " -----\n",
      "After purifying their bodies,\n",
      "\n",
      "They uplift their arms in adoration to thy dawning. -----\n",
      "\n",
      "\n",
      "All cattle rest upon their herbage,\n",
      "\n",
      "The birds fly away from their nests,\n",
      "\n",
      "Their wings uplifted in adoration to thy Vital Force. -----\n",
      "\n",
      "\n",
      " -----\n",
      "All beings live when thou hast risen for them. -----\n",
      "\n",
      "\n",
      " -----\n",
      "The barques sail upstream and downstream the Nile alike. -----\n",
      "\n",
      " -----\n",
      "Every highway is open because thou hast dawned. -----\n",
      "\n",
      "\n",
      "The fish in the river leap up before thee,\n",
      "\n",
      "And thy rays are in the midst of the great sea. -----\n",
      "\n",
      "\n",
      " -----\n",
      "O -----\n",
      "Thou, sole God, beside whom there is no other, whose symbol is the sun,\n",
      " -----\n",
      "Thou didst create the earth according to Thy heart while Thou wast alone:\n",
      " -----\n",
      "Men, cattle and all wild beasts that walk, fly, swim, or crawl. -----\n",
      "\n",
      " -----\n",
      "Thou settest every man in his place;\n",
      "\n",
      "Thou suppliest their necessities. -----\n",
      "\n",
      "\n",
      " -----\n",
      "For every one of Thy children has his possessions,\n",
      "\n",
      "RFO04-1/01423 -- 14 --\n",
      "\f",
      "<h4>Footer Page: 14</h4>\n",
      "<h4>Header Page: 15</h4>\n",
      " -----\n",
      "ROSICRUCIAN ORDER, AMORC .u -----\n",
      "....c.cscscscsscssssesssssseees ATRIUM 1 -- INITIATION\n",
      "\n",
      " -----\n",
      "And his days are reckoned. -----\n",
      "\n",
      "\n",
      " -----\n",
      "Thou art he who createst the man-child in woman,\n",
      " -----\n",
      "Who maketh seed in man,\n",
      "\n",
      "Who giveth life to the son in the body of his mother,\n",
      " -----\n",
      "Who soothest him that he may not weep,\n",
      "\n",
      "Who giveth breath to animate everyone that he maketh. -----\n",
      "\n",
      ".. -----\n",
      "on the day of his birth,\n",
      "\n",
      "Thou openest his mouth in speech. -----\n",
      "\n",
      "\n",
      "Their tongues are divers in speech;\n",
      "\n",
      "Their forms likewise and their skins,\n",
      "\n",
      "For Thou divider, hast divided the peoples into races. -----\n",
      "\n",
      " -----\n",
      "But to them all, Thou art the same and ever present. -----\n",
      "\n",
      "\n",
      "RFO04-1/01423 -- 15--\n",
      "\f",
      "<h4>Footer Page: 15</h4>\n",
      "<h4>Header Page: -----\n",
      "16</h4>\n",
      " -----\n",
      "Consecrated to truth and\n",
      "dedicated to every Rosicrucian\n",
      "\n",
      "Issued by the English Grand Lodge for Europe, the Middle East\n",
      "and Africa of the Ancient and Mystical Order, Rosae Crucis\n",
      "Greenwood Gate, Blackhill, Crowborough TN6 1 XE, United Kingdom\n",
      "\n",
      "ORDO ROSAE CRUCIS”\n",
      "\n",
      "™\n",
      "\n",
      "The above symbol traditionally denotes the First Atrium of AMORC Ss\n",
      "Neophyte Section. -----\n",
      "This symbol is actually composed of three symbols:\n",
      "a triangle, a square and a dot. -----\n",
      "These ancient geometric figures were\n",
      "used for centuries by mystics, philosophers and sages to symbolise\n",
      "certain natural and universal laws. -----\n",
      "The triangle designates perfection,\n",
      "the square symbolises stability and the dot represents the beginning\n",
      "or birth. -----\n",
      "The small sign found at the apex of the triangle is the letter\n",
      " -----\n",
      "Yod, the tenth character of the Hebrew alphabet. -----\n",
      "In Hebrew, it also\n",
      "symbolises the number 10. -----\n",
      "\n",
      "\n",
      "This monograph, in any form whatsoever, whether on paper or stored electronically, is not\n",
      "subject to purchase or sale, and may not be reproduced in any form without the written\n",
      "permission of the copyright holder. -----\n",
      "Any electronic display of, or any attempt at purchase or\n",
      "sale of this monograph may make both the purchaser and the seller liable to civil liability. -----\n",
      "\n",
      "\n",
      "This monograph and its subject matter is the copyright of the Supreme Grand Lodge of the Rosicrucian\n",
      "Order AMORC (\"SGL\") under the emblem appearing on the front cover which is legally protected\n",
      "and ipso facto protects all electronically displayed, printed, photocopied, photographed, engraved or\n",
      "typed copies of its cover and contents. -----\n",
      "Limited time right of use is sold only to the receiving member\n",
      "of AMORC, though legal title, ownership, right of ownership and right of display remain those of the\n",
      "SGL, to which it must be returned on simple demand. -----\n",
      "All matters covered in this monograph as well\n",
      "as symbols, titles and passwords, are strictly confidential and are communicated to the member of\n",
      "AMORC for his or her sole and exclusive information. -----\n",
      "Any other use or attempted use, may terminate\n",
      "active and regular affiliation with AMORC which is the only organisation authorised to publish or\n",
      "\n",
      "display this monograph in any form. -----\n",
      "\n",
      "\n",
      "© Supreme Grand Lodge of AMORC\n",
      "\f",
      "<h4>Footer Page: 16</h4>\n",
      " -----\n"
     ]
    }
   ],
   "source": [
    "for sent in doc.sents:\n",
    "    print(sent,'-----')"
   ]
  },
  {
   "cell_type": "markdown",
   "id": "blond-despite",
   "metadata": {
    "heading_collapsed": true
   },
   "source": [
    "# matcher"
   ]
  },
  {
   "cell_type": "code",
   "execution_count": 18,
   "id": "expanded-cookie",
   "metadata": {
    "ExecuteTime": {
     "end_time": "2021-06-10T15:34:35.423295Z",
     "start_time": "2021-06-10T15:34:35.421646Z"
    },
    "hidden": true
   },
   "outputs": [],
   "source": [
    "matcher = Matcher(nlp.vocab)"
   ]
  },
  {
   "cell_type": "code",
   "execution_count": 19,
   "id": "olive-richards",
   "metadata": {
    "ExecuteTime": {
     "end_time": "2021-06-10T15:34:35.429273Z",
     "start_time": "2021-06-10T15:34:35.425948Z"
    },
    "hidden": true
   },
   "outputs": [],
   "source": [
    "pattern1 = [{'LOWER': 'divine'}]\n",
    "pattern2 = [{'LOWER': 'divine'}, {'LOWER': 'perfection'}]\n",
    "pattern3 = [{'LOWER': 'divine'}, {'IS_PUNCT': True}, {'LOWER': 'perfection'}]\n",
    "\n",
    "# matcher.add('SolarPower', None, pattern1, pattern2, pattern3)\n",
    "patterns = [pattern1]+[pattern2]+[pattern3]\n",
    "matcher.add('SpiritLife', patterns)"
   ]
  },
  {
   "cell_type": "code",
   "execution_count": 20,
   "id": "developmental-wiring",
   "metadata": {
    "ExecuteTime": {
     "end_time": "2021-06-10T15:34:35.437464Z",
     "start_time": "2021-06-10T15:34:35.431542Z"
    },
    "hidden": true
   },
   "outputs": [
    {
     "name": "stdout",
     "output_type": "stream",
     "text": [
      "[(2626007918863180120, 203, 204), (2626007918863180120, 203, 205), (2626007918863180120, 2590, 2591), (2626007918863180120, 2601, 2602)]\n"
     ]
    }
   ],
   "source": [
    "found_matches = matcher(doc)\n",
    "print(found_matches)"
   ]
  },
  {
   "cell_type": "code",
   "execution_count": 21,
   "id": "demographic-james",
   "metadata": {
    "ExecuteTime": {
     "end_time": "2021-06-10T15:34:35.443929Z",
     "start_time": "2021-06-10T15:34:35.439296Z"
    },
    "hidden": true
   },
   "outputs": [
    {
     "name": "stdout",
     "output_type": "stream",
     "text": [
      "2626007918863180120 SpiritLife 203 204 Divine\n",
      "2626007918863180120 SpiritLife 203 205 Divine Perfection\n",
      "2626007918863180120 SpiritLife 2590 2591 Divine\n",
      "2626007918863180120 SpiritLife 2601 2602 Divine\n"
     ]
    }
   ],
   "source": [
    "for match_id, start, end in found_matches:\n",
    "    string_id = nlp.vocab.strings[match_id]  # get string representation\n",
    "    span = doc[start:end]                    # get the matched span\n",
    "    print(match_id, string_id, start, end, span.text)"
   ]
  },
  {
   "cell_type": "code",
   "execution_count": 23,
   "id": "fossil-lover",
   "metadata": {
    "ExecuteTime": {
     "end_time": "2021-06-10T15:34:56.007431Z",
     "start_time": "2021-06-10T15:34:55.980112Z"
    },
    "hidden": true
   },
   "outputs": [
    {
     "ename": "ValueError",
     "evalue": "[E175] Can't remove rule for unknown match pattern ID: SpiritLife",
     "output_type": "error",
     "traceback": [
      "\u001b[0;31m---------------------------------------------------------------------------\u001b[0m",
      "\u001b[0;31mValueError\u001b[0m                                Traceback (most recent call last)",
      "\u001b[0;32m<ipython-input-23-c2ee6b26be8c>\u001b[0m in \u001b[0;36m<module>\u001b[0;34m\u001b[0m\n\u001b[1;32m      1\u001b[0m \u001b[0;31m# Remove the old patterns to avoid duplication:\u001b[0m\u001b[0;34m\u001b[0m\u001b[0;34m\u001b[0m\u001b[0;34m\u001b[0m\u001b[0m\n\u001b[0;32m----> 2\u001b[0;31m \u001b[0mmatcher\u001b[0m\u001b[0;34m.\u001b[0m\u001b[0mremove\u001b[0m\u001b[0;34m(\u001b[0m\u001b[0;34m'SpiritLife'\u001b[0m\u001b[0;34m)\u001b[0m\u001b[0;34m\u001b[0m\u001b[0;34m\u001b[0m\u001b[0m\n\u001b[0m\u001b[1;32m      3\u001b[0m \u001b[0;31m#matcher.remove('SolarPower')\u001b[0m\u001b[0;34m\u001b[0m\u001b[0;34m\u001b[0m\u001b[0;34m\u001b[0m\u001b[0m\n",
      "\u001b[0;32m~/Dropbox/Personal Development/00.myEnv/myEnv/lib/python3.7/site-packages/spacy/matcher/matcher.pyx\u001b[0m in \u001b[0;36mspacy.matcher.matcher.Matcher.remove\u001b[0;34m()\u001b[0m\n",
      "\u001b[0;31mValueError\u001b[0m: [E175] Can't remove rule for unknown match pattern ID: SpiritLife"
     ]
    }
   ],
   "source": [
    "# Remove the old patterns to avoid duplication:\n",
    "matcher.remove('SpiritLife')\n",
    "#matcher.remove('SolarPower')"
   ]
  },
  {
   "cell_type": "markdown",
   "id": "valuable-toilet",
   "metadata": {
    "heading_collapsed": true
   },
   "source": [
    "# phrasematcher"
   ]
  },
  {
   "cell_type": "code",
   "execution_count": 91,
   "id": "chubby-rough",
   "metadata": {
    "ExecuteTime": {
     "end_time": "2021-06-10T17:25:38.777463Z",
     "start_time": "2021-06-10T17:25:38.772820Z"
    },
    "hidden": true
   },
   "outputs": [],
   "source": [
    "phrasematcher = PhraseMatcher(nlp.vocab, attr='LOWER')\n",
    "# LOWER attribute makes the search case insensitive"
   ]
  },
  {
   "cell_type": "code",
   "execution_count": 92,
   "id": "frozen-warrant",
   "metadata": {
    "ExecuteTime": {
     "end_time": "2021-06-10T17:25:40.875468Z",
     "start_time": "2021-06-10T17:25:40.841555Z"
    },
    "hidden": true
   },
   "outputs": [],
   "source": [
    "# First, create a list of match phrases:\n",
    "phrase_list = ['greater light', 'sign of the cross', 'evolution of humanity']\n",
    "\n",
    "# Next, convert each phrase to a Doc object:\n",
    "phrase_patterns = [nlp(text) for text in phrase_list]\n",
    "\n",
    "# Pass each Doc object into matcher (note the use of the asterisk!):\n",
    "phrasematcher.add('VoodooEconomics', None, *phrase_patterns)\n",
    "\n",
    "# Build a list of matches:\n",
    "matches = phrasematcher(doc)"
   ]
  },
  {
   "cell_type": "code",
   "execution_count": 70,
   "id": "magnetic-projector",
   "metadata": {
    "ExecuteTime": {
     "end_time": "2021-06-10T17:22:16.390286Z",
     "start_time": "2021-06-10T17:22:16.383930Z"
    },
    "hidden": true
   },
   "outputs": [
    {
     "data": {
      "text/plain": [
       "[(3473369816841043438, 2302, 2304),\n",
       " (3473369816841043438, 2699, 2701),\n",
       " (3473369816841043438, 3987, 3991),\n",
       " (3473369816841043438, 4000, 4004),\n",
       " (3473369816841043438, 4024, 4026),\n",
       " (3473369816841043438, 4324, 4327)]"
      ]
     },
     "execution_count": 70,
     "metadata": {},
     "output_type": "execute_result"
    }
   ],
   "source": [
    "# (match_id, start, end)\n",
    "matches"
   ]
  },
  {
   "cell_type": "code",
   "execution_count": 27,
   "id": "standard-constraint",
   "metadata": {
    "ExecuteTime": {
     "end_time": "2021-06-10T15:35:56.848126Z",
     "start_time": "2021-06-10T15:35:56.845184Z"
    },
    "hidden": true
   },
   "outputs": [],
   "source": [
    "phrasematcher.remove('VoodooEconomics')"
   ]
  },
  {
   "cell_type": "code",
   "execution_count": 28,
   "id": "balanced-killer",
   "metadata": {
    "ExecuteTime": {
     "end_time": "2021-06-10T15:35:56.854108Z",
     "start_time": "2021-06-10T15:35:56.849503Z"
    },
    "hidden": true
   },
   "outputs": [
    {
     "name": "stdout",
     "output_type": "stream",
     "text": [
      "0 39\n"
     ]
    }
   ],
   "source": [
    "# Build a list of sentences\n",
    "sents = [sent for sent in doc.sents]\n",
    "\n",
    "# In the next section we'll see that sentences contain start and end token values:\n",
    "print(sents[0].start, sents[0].end)"
   ]
  },
  {
   "cell_type": "code",
   "execution_count": 29,
   "id": "innovative-motorcycle",
   "metadata": {
    "ExecuteTime": {
     "end_time": "2021-06-10T15:35:56.859151Z",
     "start_time": "2021-06-10T15:35:56.856290Z"
    },
    "hidden": true
   },
   "outputs": [
    {
     "data": {
      "text/plain": [
       "often difficult, when considering the founders of spiritual\n",
       "doctrines which marked the evolution of humanity, to make a\n",
       "distinction between the historical truths and legendary aspects"
      ]
     },
     "execution_count": 29,
     "metadata": {},
     "output_type": "execute_result"
    }
   ],
   "source": [
    "doc[4310:4340]"
   ]
  },
  {
   "cell_type": "code",
   "execution_count": 30,
   "id": "focused-trial",
   "metadata": {
    "ExecuteTime": {
     "end_time": "2021-06-10T15:35:56.866337Z",
     "start_time": "2021-06-10T15:35:56.860718Z"
    },
    "hidden": true
   },
   "outputs": [
    {
     "name": "stdout",
     "output_type": "stream",
     "text": [
      "\n",
      "[2274]-[2324]:-\n",
      "\n",
      "\n",
      "Light the candle on your left and, immediately after\n",
      "having done so, say: “May this Sacred Light,\n",
      "symbol of the Greater Light of Cosmic Wisdom,\n",
      "cast its radiance in the midst of darkness and\n",
      "illuminate my path.”\n",
      "\n",
      "\n",
      "[2682]-[2712]:-\n",
      "Of\n",
      "that you must always be conscious, for as long as\n",
      "you seek the Greater Light, your inner light will\n",
      "guide your steps.\n",
      "\n",
      "\n",
      "\n",
      "\n",
      "[3976]-[4022]:-\n",
      "Then close\n",
      "this special initiation by making the Rosicrucian\n",
      "Sign of the Cross and saying:\n",
      "\n",
      "‘“‘Before the Sign of the Cross and in the presence\n",
      "of the Guardian of this Sanctum, I close this\n",
      "ceremony.\n",
      "\n",
      "\n",
      "[4022]-[4052]:-\n",
      "May the Greater Light of Cosmic\n",
      "Wisdom enlighten me forever, so that I may be\n",
      "worthy of the Knowledge which will be entrusted\n",
      "to me.\n",
      "\n",
      "\n",
      "[4308]-[4354]:-\n",
      "It is often difficult, when considering the founders of spiritual\n",
      "doctrines which marked the evolution of humanity, to make a\n",
      "distinction between the historical truths and legendary aspects of\n",
      "their lives, for such beings are always described as demigods.\n",
      "\n"
     ]
    }
   ],
   "source": [
    "# Iterate over the sentence list until the sentence end value exceeds a match start value:\n",
    "for sent in sents:\n",
    "    for m in matches:\n",
    "        if (m[1] < sent.end) & (m[1]>= sent.start):  # this is the fifth match, that starts at doc3[673]\n",
    "            print('\\n[%s]-[%s]:-\\n%s\\n'%(sent.start, sent.end, sent))\n",
    "            break"
   ]
  },
  {
   "cell_type": "code",
   "execution_count": 32,
   "id": "waiting-session",
   "metadata": {
    "ExecuteTime": {
     "end_time": "2021-06-10T15:39:57.658046Z",
     "start_time": "2021-06-10T15:39:57.651568Z"
    },
    "hidden": true
   },
   "outputs": [
    {
     "data": {
      "text/plain": [
       "<h4>Header Page: 1</h4>\n",
       "\\AAANNAANAAAAANAAAAARANAAAAAANAAAAAAANAAAARAANAAARAAAAAARAAAAAAA Ae,\n",
       "\n",
       "EZ Lp\n",
       "\n",
       "SS SSS 0 RE RETR PORES\n",
       "EE AN) RSS\n",
       "\n",
       "ROSICRUCIAN ORDER”\n",
       "A.M.O.R.C. *\n",
       "\n",
       "MASTER\n",
       "MONOGRAPH\n"
      ]
     },
     "execution_count": 32,
     "metadata": {},
     "output_type": "execute_result"
    }
   ],
   "source": [
    "sents[0]"
   ]
  },
  {
   "cell_type": "markdown",
   "id": "acting-graduation",
   "metadata": {},
   "source": [
    "# phrasematcher - module\n",
    "\n",
    "> Implementation of a generic phrase matching"
   ]
  },
  {
   "cell_type": "markdown",
   "id": "recreational-shopper",
   "metadata": {},
   "source": [
    "* set list of phrases\n",
    "* from Elasticsearch list of all documents with matches -> matching_population\n",
    "* for all documents in matching_population\n",
    "    * create phrasematcher\n",
    "    * extract all the sentences"
   ]
  },
  {
   "cell_type": "raw",
   "id": "polish-airline",
   "metadata": {
    "ExecuteTime": {
     "end_time": "2021-06-10T17:26:09.851664Z",
     "start_time": "2021-06-10T17:26:09.840750Z"
    }
   },
   "source": [
    "phrasematcher = PhraseMatcher(nlp.vocab, attr='LOWER')\n",
    "# LOWER attribute makes the search case insensitive"
   ]
  },
  {
   "cell_type": "code",
   "execution_count": 14,
   "id": "missing-editing",
   "metadata": {
    "ExecuteTime": {
     "end_time": "2021-06-10T21:19:10.618866Z",
     "start_time": "2021-06-10T21:19:10.614724Z"
    }
   },
   "outputs": [],
   "source": [
    "phrasematchername = 'search'"
   ]
  },
  {
   "cell_type": "code",
   "execution_count": 15,
   "id": "posted-crack",
   "metadata": {
    "ExecuteTime": {
     "end_time": "2021-06-10T21:19:11.318523Z",
     "start_time": "2021-06-10T21:19:11.314499Z"
    }
   },
   "outputs": [],
   "source": [
    "# First, create a list of match phrases:\n",
    "phrase_list = ['greater light', 'sign of the cross', 'evolution of humanity']"
   ]
  },
  {
   "cell_type": "code",
   "execution_count": 16,
   "id": "looking-surfing",
   "metadata": {
    "ExecuteTime": {
     "end_time": "2021-06-10T21:19:11.958407Z",
     "start_time": "2021-06-10T21:19:11.953159Z"
    }
   },
   "outputs": [],
   "source": [
    "indexname = \"maxlibrary\"\n",
    "numberOfDocs = 1000"
   ]
  },
  {
   "cell_type": "code",
   "execution_count": 17,
   "id": "developmental-metro",
   "metadata": {
    "ExecuteTime": {
     "end_time": "2021-06-10T21:19:12.537017Z",
     "start_time": "2021-06-10T21:19:12.530108Z"
    }
   },
   "outputs": [],
   "source": [
    "es =Elasticsearch(['http://localhost:9210'])"
   ]
  },
  {
   "cell_type": "raw",
   "id": "bottom-reunion",
   "metadata": {
    "ExecuteTime": {
     "end_time": "2021-06-10T17:26:16.053290Z",
     "start_time": "2021-06-10T17:26:16.026550Z"
    }
   },
   "source": [
    "# example doc 'BMGSzHkBNI5rijrm26YK'\n",
    "tempId = 'BMGSzHkBNI5rijrm26YK'\n",
    "detailedResponse = es.search(\n",
    "    index = indexname,\n",
    "    body = {\n",
    "        \"size\":numberOfDocs,\n",
    "        \"query\":{\n",
    "            \"match\":{\n",
    "                \"_id\":tempId\n",
    "            }\n",
    "        }\n",
    "    })"
   ]
  },
  {
   "cell_type": "raw",
   "id": "champion-commonwealth",
   "metadata": {
    "ExecuteTime": {
     "end_time": "2021-06-10T17:26:31.077923Z",
     "start_time": "2021-06-10T17:26:31.074236Z"
    }
   },
   "source": [
    "entry=detailedResponse['hits']['hits'][0]\n",
    "content = entry['_source']['Content']"
   ]
  },
  {
   "cell_type": "raw",
   "id": "professional-graphics",
   "metadata": {
    "ExecuteTime": {
     "end_time": "2021-06-10T21:19:36.895325Z",
     "start_time": "2021-06-10T21:19:36.114072Z"
    }
   },
   "source": [
    "doc_ids =[]\n",
    "for phrase in phrase_list:\n",
    "    print('Processing \"%s\"'%(phrase))\n",
    "    detailedResponse = es.search(\n",
    "    index = indexname,\n",
    "    body = {\n",
    "        \"size\":numberOfDocs,\n",
    "        \"query\":{\n",
    "            \"match\":{\n",
    "                \"Content\":{\n",
    "                    \"query\": phrase,\n",
    "                    \"operator\": \"and\"\n",
    "                }\n",
    "            }\n",
    "        }\n",
    "    })\n",
    "    \n",
    "    entries=detailedResponse['hits']['hits']\n",
    "    print(' -> (%s)'%(len(entries)))\n",
    "    for entry in entries:\n",
    "        doc_ids.append(entry['_id'])"
   ]
  },
  {
   "cell_type": "code",
   "execution_count": 20,
   "id": "smart-functionality",
   "metadata": {
    "ExecuteTime": {
     "end_time": "2021-06-10T21:20:04.726429Z",
     "start_time": "2021-06-10T21:20:04.482199Z"
    }
   },
   "outputs": [
    {
     "name": "stdout",
     "output_type": "stream",
     "text": [
      "Processing \"greater light\"\n",
      " -> (7)\n",
      "Processing \"sign of the cross\"\n",
      " -> (6)\n",
      "Processing \"evolution of humanity\"\n",
      " -> (6)\n"
     ]
    }
   ],
   "source": [
    "doc_ids =[]\n",
    "for phrase in phrase_list:\n",
    "    print('Processing \"%s\"'%(phrase))\n",
    "    detailedResponse = es.search(\n",
    "    index = indexname,\n",
    "    body = {\n",
    "        \"size\":numberOfDocs,\n",
    "        \"query\":{\n",
    "            \"match_phrase\":{\n",
    "                \"Content\":{\n",
    "                    \"query\": phrase\n",
    "                }\n",
    "            }\n",
    "        }\n",
    "    })\n",
    "\n",
    "    entries=detailedResponse['hits']['hits']\n",
    "    print(' -> (%s)'%(len(entries)))\n",
    "    for entry in entries:\n",
    "        doc_ids.append(entry['_id'])"
   ]
  },
  {
   "cell_type": "code",
   "execution_count": 21,
   "id": "played-pharmaceutical",
   "metadata": {
    "ExecuteTime": {
     "end_time": "2021-06-10T21:20:12.605060Z",
     "start_time": "2021-06-10T21:20:12.598801Z"
    }
   },
   "outputs": [],
   "source": [
    "doc_ids=list(set(sorted(doc_ids)))"
   ]
  },
  {
   "cell_type": "code",
   "execution_count": 22,
   "id": "stuffed-newton",
   "metadata": {
    "ExecuteTime": {
     "end_time": "2021-06-10T21:20:13.272886Z",
     "start_time": "2021-06-10T21:20:13.266350Z"
    }
   },
   "outputs": [
    {
     "name": "stdout",
     "output_type": "stream",
     "text": [
      "13\n"
     ]
    }
   ],
   "source": [
    "print(len(doc_ids))"
   ]
  },
  {
   "cell_type": "code",
   "execution_count": 23,
   "id": "threatened-spotlight",
   "metadata": {
    "ExecuteTime": {
     "end_time": "2021-06-10T21:20:14.389921Z",
     "start_time": "2021-06-10T21:20:14.368866Z"
    },
    "scrolled": true
   },
   "outputs": [
    {
     "data": {
      "text/plain": [
       "['NMEczXkBNI5rijrmvKav',\n",
       " 'NcEkzXkBNI5rijrmXKbk',\n",
       " 'M8EKzXkBNI5rijrmg6YE',\n",
       " 'P8GozXkBNI5rijrmhaYF',\n",
       " 'KcHMzHkBNI5rijrmQKak',\n",
       " 'PMGGzXkBNI5rijrm16YM',\n",
       " '_cFnzHkBNI5rijrm3aXO',\n",
       " 'PsGazXkBNI5rijrmdabE',\n",
       " 'J8GlzHkBNI5rijrm-qZc',\n",
       " 'BMGSzHkBNI5rijrm26YK',\n",
       " 'PcGLzXkBNI5rijrmRqZO',\n",
       " 'QMGxzXkBNI5rijrmk6Zh',\n",
       " 'F8GdzHkBNI5rijrmQqY-']"
      ]
     },
     "execution_count": 23,
     "metadata": {},
     "output_type": "execute_result"
    }
   ],
   "source": [
    "doc_ids # contains the list of documents with at least a match"
   ]
  },
  {
   "cell_type": "raw",
   "id": "still-liberia",
   "metadata": {
    "ExecuteTime": {
     "end_time": "2021-06-10T20:34:57.760043Z",
     "start_time": "2021-06-10T20:34:57.745420Z"
    }
   },
   "source": [
    "phrasematcher = PhraseMatcher(nlp.vocab, attr='LOWER')\n",
    "# LOWER attribute makes the search case insensitive"
   ]
  },
  {
   "cell_type": "code",
   "execution_count": 24,
   "id": "thorough-spouse",
   "metadata": {
    "ExecuteTime": {
     "end_time": "2021-06-10T21:20:16.073706Z",
     "start_time": "2021-06-10T21:20:16.069845Z"
    }
   },
   "outputs": [],
   "source": [
    "nlp.max_length = 3000000"
   ]
  },
  {
   "cell_type": "raw",
   "id": "prescribed-spider",
   "metadata": {
    "ExecuteTime": {
     "end_time": "2021-06-10T20:31:44.309486Z",
     "start_time": "2021-06-10T20:31:44.271546Z"
    }
   },
   "source": [
    "# Next, convert each phrase to a Doc object:\n",
    "phrase_patterns = [nlp(text) for text in phrase_list]\n",
    "\n",
    "# Pass each Doc object into matcher (note the use of the asterisk!):\n",
    "phrasematcher.add(phrasematchername, None, *phrase_patterns)\n",
    "\n"
   ]
  },
  {
   "cell_type": "code",
   "execution_count": 25,
   "id": "spectacular-reggae",
   "metadata": {
    "ExecuteTime": {
     "end_time": "2021-06-10T21:30:12.558676Z",
     "start_time": "2021-06-10T21:20:19.978970Z"
    },
    "scrolled": true
   },
   "outputs": [
    {
     "name": "stdout",
     "output_type": "stream",
     "text": [
      "Processing document id: \"NMEczXkBNI5rijrmvKav\"\n",
      "Index: maxlibrary\n",
      "Phrase Patterns: [greater light, sign of the cross, evolution of humanity]\n",
      "Number of matches: 10\n",
      "\n",
      "Title: Rosicrucian Manual AMORC.pdf\n",
      "\n",
      "Document Location:[14053]-[14097]:-\n",
      "\n",
      "\n",
      "When the Sanctum is entered for any legitimate purpose, he who\n",
      "enters it may pass only to the center of it, and must leave it from the\n",
      "same point by which he entered it.\n",
      " ->Likewise must each who enters\n",
      "it immediately face the East, from the center of it, and make the\n",
      "“Sign of the Cross” before doing that act or performing that function\n",
      "which necessitated entrance into the Sanctum.<-\n",
      "In leaving the Sanc-\n",
      "tum, he who entered it must only leave by the same point of en-\n",
      "trance.\n",
      "\n",
      "\n",
      "Document Location:[15214]-[15238]:-\n",
      "Guardian\n",
      "\n",
      " \n",
      "\f",
      "<h4>Footer Page: 24</h4>\n",
      "<h4>Header Page: 25</h4>\n",
      "\n",
      " ->THE SIGN OF THE CROSS\n",
      "\n",
      "Reference has been made many times in the preceding pages to\n",
      "the Sign of the Cross.<-\n",
      "An explanation of this term and Sign is\n",
      "necessary.\n",
      "\n",
      "\n",
      "Document Location:[15742]-[15794]:-\n",
      "It should\n",
      "never be supplanted by any form of pledge.\n",
      " ->Even in courts of law,\n",
      "and elsewhere, when one is called upon to pledge to an oath or state-\n",
      "ment, by placing the hands upon the Holy Bible, or by raising the\n",
      "hand, the Sign of the Cross may be used in preference.<-\n",
      "In many\n",
      "instances, when taking an oath, one is privileged to use whatever\n",
      "form is the most sacred to the maker of the oath; this permits the\n",
      "Rosicrucians to vow their allegiance to an obligation or swear to any\n",
      "\n",
      "[ 40 ]\n",
      "\n",
      "* |\n",
      "e \"Senn ee =\n",
      "\n",
      "\n",
      "\n",
      "\n",
      "Document Location:[15882]-[15910]:-\n",
      "Pe\n",
      "a\n",
      "\n",
      " \n",
      "\n",
      "3—37 1260—Rosicrucian Manual 111-219 1039 Reset pages\n",
      "\n",
      " ->Reset page 41\n",
      "\n",
      "statement, in court or out of it, by making the Sign of the Cross in\n",
      "preference to any other form.<-\n",
      "However, this deviation is not recom-\n",
      "mended,\n",
      "\n",
      "SALUTATIONS\n",
      "\n",
      "\n",
      "\n",
      "\n",
      "Document Location:[16211]-[16266]:-\n",
      "\n",
      "\n",
      "Saluting the Master.\n",
      " ->If, during any Convocation or lecture, a\n",
      "member shall await the first opportunity to interrupt the Master, he\n",
      "or she shall rise in front of his or her seat and face the East, then,\n",
      "when the Master observes this, make the Sign of the Cross.<-\n",
      "The\n",
      "Master will then say: “How may I serve my Frater (or Soror)?”\n",
      "\n",
      "\n",
      "Document Location:[16436]-[16489]:-\n",
      "\n",
      "\n",
      "THE OBLIGATION OF SERVICE\n",
      "\n",
      "All initiates in the First Degree Initiation are called upon to stand\n",
      "in the Holy Sanctum of the Lodge, and facing the East, make a cer-\n",
      "tain Sign and at the same time repeat after the Master the following\n",
      "sacred Obligation, which is voluntarily taken, and is forever binding\n",
      "upon all members:\n",
      " ->\n",
      "\n",
      "“Before the Sign of the Cross, and in the name of our God, I\n",
      "promise to forever do my utmost to restore to the world the light\n",
      "which is gone and the Secrets of the universe that have been withheld\n",
      "from the profane mind.”<-\n",
      "\n",
      "\n",
      "This Obligation of Service makes it imperative for the members\n",
      "\n",
      "[41 ]\n",
      "\f",
      "<h4>Footer Page: 25</h4>\n",
      "<h4>Header Page: 26</h4>\n",
      "to study and practice, to test and try the private laws taught in our\n",
      "Order, and to apply them at every opportune time, so that the light\n",
      "which is gone may be restored and darkness (ignorance and evil)\n",
      "dispelled.\n",
      "\n",
      "\n",
      "Document Location:[18389]-[18463]:-\n",
      "\n",
      "\n",
      "The foregoing things are to be held sacredly private by the mem-\n",
      "bers.\n",
      " ->The first Oath, taken by every Initiate before being initiated\n",
      "is as follows: “Before the Sign of the Cross, I promise upon my\n",
      "honor, not to reveal to any one but a known Frater or Soror of this\n",
      "Order, the Signs, Secrets, or Words which I may learn prior to,\n",
      "during, or after passing through the First Degree.”<-\n",
      "This Oath, being\n",
      "taken prior to membership, is considered binding upon the member\n",
      "for all Degrees.\n",
      "\n",
      "\n",
      "Document Location:[88318]-[88330]:-\n",
      "It is the great crucible in which we are purged of our weak-\n",
      "nesses in preparation for the Golden Dawn, the great initiation just\n",
      "ahead.\n",
      " ->The Golden Dawn is the New Birth into the Greater Light.<-\n",
      "\n",
      "\n",
      "Occultism—tIn the popular sense, occultism is held to be a system\n",
      "of hidden methods, of strange practices, whereby man may acquire\n",
      "the way of attaining inexplicable powers by which he may do or ac-\n",
      "\n",
      "\n",
      "\n",
      "Document Location:[94229]-[94246]:-\n",
      "In the center, where the horizontal arm\n",
      "joins the verticle staff of the cross, is superimposed the rose, It repre-\n",
      "sents the soul personality.\n",
      " ->The partially unfolded rose alludes to the\n",
      "evolving consciousness as it receives the greater light.<-\n",
      "\n",
      "\n",
      "\n",
      "\n",
      "Processing document id: \"NcEkzXkBNI5rijrmXKbk\"\n",
      "Index: maxlibrary\n",
      "Phrase Patterns: [greater light, sign of the cross, evolution of humanity]\n",
      "Number of matches: 1\n",
      "\n",
      "Title: Rosicrucian Mysteries.pdf\n",
      "\n",
      "Document Location:[1792]-[1833]:-\n",
      "A SOFT HEART\n",
      "\n",
      " ->A SOUND BODY\n",
      "\n",
      "Before entering upon an explanation of the\n",
      "teachings of the Rosicrucians, it may be well to say a\n",
      "word about them and about the place they hold in the\n",
      "evolution of humanity.<-\n",
      "\n",
      "\n",
      "\n",
      "\n",
      "Processing document id: \"M8EKzXkBNI5rijrmg6YE\"\n",
      "Index: maxlibrary\n",
      "Phrase Patterns: [greater light, sign of the cross, evolution of humanity]\n",
      "Number of matches: 6\n",
      "\n",
      "Title: Rosicrucian Manual 1927.pdf\n",
      "\n",
      "Document Location:[13621]-[13651]:-\n",
      "\n",
      "\n",
      "\n",
      " ->In the East of the Lodge is situate the Altar of the Master,\n",
      "who represents the Greater Light, and is, in fact, the Lesser\n",
      "<-\n",
      "Juight, in al] Lodge convocations, except when ‘‘the Vestal Light\n",
      "nay more symbolically represent the rising of the Greater Light\n",
      "in its glory’’.\n",
      "\n",
      "\n",
      "Document Location:[13651]-[13683]:-\n",
      "In the East of the Lodge is situate the Altar of the Master,\n",
      "who represents the Greater Light, and is, in fact, the Lesser\n",
      "\n",
      " ->Juight, in al] Lodge convocations, except when ‘‘the Vestal Light\n",
      "nay more symbolically represent the rising of the Greater Light\n",
      "in its glory’’.<-\n",
      "\n",
      "\n",
      "sacred and ITely shall the Altar be, that from its bosom may\n",
      "come Intellectual and Spiritual [hamination, equal to the physi-\n",
      "eal illumination given by the Sun.\n",
      "\n",
      "\n",
      "Document Location:[16495]-[16502]:-\n",
      "Por Thou art, Thyseli, the Cycle’s Kvolution—its own Eter-\n",
      "nity!\n",
      " ->\n",
      "\n",
      "THE SIGN OF THE CROSS.<-\n",
      "\n",
      "\n",
      ", Kelerence has been made many times in the preceding pages\n",
      "0\n",
      "\n",
      "\n",
      "Document Location:[16516]-[16522]:-\n",
      "\n",
      "\n",
      ", Kelerence has been made many times in the preceding pages\n",
      "0\n",
      " ->the Sign of the Cross.<-\n",
      "An explanation of this term and\n",
      "\n",
      "\n",
      "\n",
      "Document Location:[17002]-[17047]:-\n",
      "Mven\n",
      "in courts of law.\n",
      " ->and elsewhere, when one is called upon to\n",
      "pledge to an oath or statement, by placing the hands upon the\n",
      "Holy Bible, or by raising the hand, the Sign of the Cross should\n",
      "he used in preference.<-\n",
      "fn\n",
      "\n",
      "\n",
      "Document Location:[17750]-[17780]:-\n",
      "Master the fetlowing sacred Obligation, which is voluntarily\n",
      "taken, and is forever binding upon all Members: .\n",
      " ->\n",
      "\n",
      "“Before the Sign of the Cross, and in the name of our God,\n",
      "T promise to forever do tay utmost to restore to the world<-\n",
      "the\n",
      "\n",
      "\n",
      "Processing document id: \"P8GozXkBNI5rijrmhaYF\"\n",
      "Index: maxlibrary\n",
      "Phrase Patterns: [greater light, sign of the cross, evolution of humanity]\n",
      "Number of matches: 1\n",
      "\n",
      "Title: The Rosicrucians by Hargrave Jennings.pdf\n",
      "\n",
      "Document Location:[73917]-[73940]:-\n",
      "Balenque,) described by Stevens, is thought,\n",
      "by some, to have been erected as a FIRE-~\n",
      "TEMPLE.\n",
      " ->The sign of the cross is also\n",
      "conspicuous amongst various sculptures\n",
      "apparently of a sacred or symbolic cha-\n",
      "racter.<-\n",
      "\n",
      "\n",
      "Ibernia, Iberi, Pheenicia, are names of the\n",
      "same origin.\n",
      "\n",
      "Processing document id: \"KcHMzHkBNI5rijrmQKak\"\n",
      "Index: maxlibrary\n",
      "Phrase Patterns: [greater light, sign of the cross, evolution of humanity]\n",
      "Number of matches: 1\n",
      "\n",
      "Title: Paschal Beverly Randolph A Nineteenth Century Black American Spiritualist Rosicrucian and Sex Magician.pdf\n",
      "\n",
      "Document Location:[52264]-[52270]:-\n",
      "2d, A spark of light.\n",
      " ->3d, A greater light.<-\n",
      "4th, Misty forms\n",
      "will float before you.\n",
      "\n",
      "Processing document id: \"PMGGzXkBNI5rijrm16YM\"\n",
      "Index: maxlibrary\n",
      "Phrase Patterns: [greater light, sign of the cross, evolution of humanity]\n",
      "Number of matches: 3\n",
      "\n",
      "Title: The Rosicrucian Fraternity in America Vol II.pdf\n",
      "\n",
      "Document Location:[80161]-[80167]:-\n",
      "BUT THE MESSAGES OF JOY AND WORDS OF LIGHT\n",
      "TO BE PREPARED AND SENT BROADCAST TO OUR\n",
      "MEMBERS, THE GREATEST EFFICIENCY IN SPREADING\n",
      "\n",
      " ->THE GREATER LIGHT WOULD EXIST.<-\n",
      "With those\n",
      "whose lives are associated with us, sacrificing the\n",
      "former worldly pleasures, foregoing the conventional\n",
      "homes and social practices and /iving in communion\n",
      "with God and nature for the good of our fellow\n",
      "beings, this and nothing more is appropriate, neces-\n",
      "sary and efficient for the cause [i.e., for real Rosi-\n",
      "crucians and the true Order of which he speaks\n",
      "correctly but imitates poorly ].\n",
      "\n",
      "\n",
      "Document Location:[317726]-[317802]:-\n",
      "In the Name of the Grand Architect of the Universe 3\n",
      "\n",
      " ->“Before the Sign of the Cross, Greetings:\n",
      "\n",
      "“To my Very Venerabie and Very Exalted Supreme Grand\n",
      "Master General* of the Order Rosae Crucis, H. Spencer Lewis,\n",
      "Imperator of the North American continent and Chevalier,’ and\n",
      "Commander-in-Chief of the Militant Order of Knights of the Rosy\n",
      "Cross:\n",
      "\n",
      "“Respected Brother and Sire: ... ete.”<-\n",
      "(Rosicrucian Initiation,\n",
      "\n",
      "p. 17.)\n",
      "\n",
      "\n",
      "Document Location:[342862]-[342969]:-\n",
      "987,601.\n",
      " ->\n",
      "“*A la Occident:\n",
      "\n",
      "“Te Secretaire-General, Respected Knight Thor Kiimalehto, An-\n",
      "cient R. C.\n",
      "\n",
      "“ “Greetings Before the Sign of the Cross:—\n",
      "\n",
      "“Ata High Lateran Council® of the Council R. C. of the World\n",
      "held in Egypt in Memphis on July 20, A. D. 1916, R. C. 3269,\n",
      "the R. C. territories of the world were readministered in contingency\n",
      "of the necessary readjustment after the termination of the warring\n",
      "activities of the nations of Europe and Asia, and in contemplation of\n",
      "<-\n",
      "the certain reorganization early in the year 1917 A. D., the’ said\n",
      "Council decreed a division of territories as conceived on the map\n",
      "and chart which constitutes an official part of this document.\n",
      "\n",
      "Processing document id: \"_cFnzHkBNI5rijrm3aXO\"\n",
      "Index: maxlibrary\n"
     ]
    },
    {
     "name": "stdout",
     "output_type": "stream",
     "text": [
      "Phrase Patterns: [greater light, sign of the cross, evolution of humanity]\n",
      "Number of matches: 1\n",
      "\n",
      "Title: A - Positio RC .pdf\n",
      "\n",
      "Document Location:[6035]-[6061]:-\n",
      "Furthermore, people may be estranged because the religions have\n",
      "alienated themselves from spirituality.\n",
      " ->But spirituality, although SR+C\\\n",
      "immutable in essence, constantly seeks to express itself through\n",
      "\n",
      "channels increasingly suited to the evolution of humanity.<-\n",
      "\\\\\n",
      "\n",
      "--14--\n",
      "\f",
      "<h4>Footer Page: 14</h4>\n",
      "<h4>Header Page: 15</h4>\n",
      "\n",
      "\n",
      "Processing document id: \"PsGazXkBNI5rijrmdabE\"\n",
      "Index: maxlibrary\n",
      "Phrase Patterns: [greater light, sign of the cross, evolution of humanity]\n",
      "Number of matches: 1\n",
      "\n",
      "Title: The Rosicrucians Their Rites and Mysteries.pdf\n",
      "\n",
      "Document Location:[17048]-[17108]:-\n",
      "THE PHILOSOPHER HUME.\n",
      " ->39\n",
      "\n",
      "that no more truth is vouchsafed to man than he knows\n",
      "how to use: most of his uses, even of his little quantum of\n",
      "truth, being perverted, He must await other states for\n",
      "greater light, and to become a higher creature—should that\n",
      "be his happy destiny.<-\n",
      "As to certainty in this world, there\n",
      "is none—nor can there be any.\n",
      "\n",
      "Processing document id: \"J8GlzHkBNI5rijrm-qZc\"\n",
      "Index: maxlibrary\n",
      "Phrase Patterns: [greater light, sign of the cross, evolution of humanity]\n",
      "Number of matches: 1\n",
      "\n",
      "Title: Manifesto.pdf\n",
      "\n",
      "Document Location:[6035]-[6061]:-\n",
      "Furthermore, people may be estranged because the religions have\n",
      "alienated themselves from spirituality.\n",
      " ->But spirituality, although SR+C\\\n",
      "immutable in essence, constantly seeks to express itself through\n",
      "\n",
      "channels increasingly suited to the evolution of humanity.<-\n",
      "\\\\\n",
      "\n",
      "--14--\n",
      "\f",
      "<h4>Footer Page: 14</h4>\n",
      "<h4>Header Page: 15</h4>\n",
      "\n",
      "\n",
      "Processing document id: \"BMGSzHkBNI5rijrm26YK\"\n",
      "Index: maxlibrary\n",
      "Phrase Patterns: [greater light, sign of the cross, evolution of humanity]\n",
      "Number of matches: 6\n",
      "\n",
      "Title: B - Atrium I - Initiation.pdf\n",
      "\n",
      "Document Location:[2274]-[2324]:-\n",
      "I ask you to give all your attention,\n",
      "all your devotion, all your trust and all your\n",
      "sincerity to this symbolic ceremony, so that you\n",
      "may pass this first Portal in all purity and perfect\n",
      "dignity.\n",
      " ->\n",
      "\n",
      "Light the candle on your left and, immediately after\n",
      "having done so, say: “May this Sacred Light,\n",
      "symbol of the Greater Light of Cosmic Wisdom,\n",
      "cast its radiance in the midst of darkness and\n",
      "illuminate my path.”<-\n",
      "\n",
      "\n",
      "(Carry out these instructions without the least mental\n",
      "reservation and in an inner attitude as receptive as\n",
      "possible.)\n",
      "\n",
      "\n",
      "Document Location:[2682]-[2712]:-\n",
      "That is so because the sight of fire\n",
      "sheds light on their soul, warms their heart and\n",
      "awakens within them the noblest sentiments.\n",
      " ->Of\n",
      "that you must always be conscious, for as long as\n",
      "you seek the Greater Light, your inner light will\n",
      "guide your steps.\n",
      "\n",
      "<-\n",
      "Now, Beloved Postulant, arise, lightly dip the tip\n",
      "\n",
      "8 --\n",
      "\f",
      "<h4>Footer Page: 8</h4>\n",
      "<h4>Header Page: 9</h4>\n",
      "\n",
      "\n",
      "\n",
      "Document Location:[3976]-[4022]:-\n",
      "Now arise\n",
      "and extinguish the two candles of your Sanctum,\n",
      "beginning with the one on your left.\n",
      " ->Then close\n",
      "this special initiation by making the Rosicrucian\n",
      "Sign of the Cross and saying:\n",
      "\n",
      "‘“‘Before the Sign of the Cross and in the presence\n",
      "of the Guardian of this Sanctum, I close this\n",
      "ceremony.<-\n",
      "May the Greater Light of Cosmic\n",
      "Wisdom enlighten me forever, so that I may be\n",
      "worthy of the Knowledge which will be entrusted\n",
      "to me.\n",
      "\n",
      "\n",
      "Document Location:[4022]-[4052]:-\n",
      "Then close\n",
      "this special initiation by making the Rosicrucian\n",
      "Sign of the Cross and saying:\n",
      "\n",
      "‘“‘Before the Sign of the Cross and in the presence\n",
      "of the Guardian of this Sanctum, I close this\n",
      "ceremony.\n",
      " ->May the Greater Light of Cosmic\n",
      "Wisdom enlighten me forever, so that I may be\n",
      "worthy of the Knowledge which will be entrusted\n",
      "to me.<-\n",
      "So Mote It Be!”’\n",
      "\n",
      "(Follow the instructions just given and then maintain\n",
      "silence for a few minutes.\n",
      "\n",
      "\n",
      "Document Location:[4308]-[4354]:-\n",
      "WORDS OF THE ILLUMINED\n",
      "\n",
      "“Many are the vistas that are revealed to him\n",
      "who has attained the mountain top”\n",
      "\n",
      "\n",
      " ->It is often difficult, when considering the founders of spiritual\n",
      "doctrines which marked the evolution of humanity, to make a\n",
      "distinction between the historical truths and legendary aspects of\n",
      "their lives, for such beings are always described as demigods.<-\n",
      "What\n",
      "is beyond doubt though, are the words of wisdom they uttered which\n",
      "are a reflection of the Cosmic Illumination which raised them above\n",
      "other individuals of their time.\n",
      "\n",
      "Processing document id: \"PcGLzXkBNI5rijrmRqZO\"\n",
      "Index: maxlibrary\n",
      "Phrase Patterns: [greater light, sign of the cross, evolution of humanity]\n",
      "Number of matches: 0\n",
      "\n",
      "Title: The Rosicrucian Mysteries.pdf\n",
      "Processing document id: \"QMGxzXkBNI5rijrmk6Zh\"\n",
      "Index: maxlibrary\n",
      "Phrase Patterns: [greater light, sign of the cross, evolution of humanity]\n",
      "Number of matches: 1\n",
      "\n",
      "Title: The Technique of the Master 1932 First Edition with dust jacket.pdf\n",
      "\n",
      "Document Location:[37338]-[37367]:-\n",
      "The adept is a serv-\n",
      "ant.\n",
      " ->The crucifying struggle of life around you,\n",
      "inscribing the sign of the cross indelibly in the brow\n",
      "of humanity, is it anything to you?<-\n",
      "Is the sombre\n",
      "panorama of the human soul, passing and repassing\n",
      "between the two eternities, and feeling blindly and\n",
      "unknowingly after the great secret, anything to\n",
      "you?\n",
      "\n",
      "Processing document id: \"F8GdzHkBNI5rijrmQqY-\"\n",
      "Index: maxlibrary\n",
      "Phrase Patterns: [greater light, sign of the cross, evolution of humanity]\n",
      "Number of matches: 2\n",
      "\n",
      "Title: C - Atrium II - Initiation.pdf\n",
      "\n",
      "Document Location:[2142]-[2172]:-\n",
      "ROSICRUCIAN ORDER, AMORC ......cccscscsccsecessessseees ATRIUM 2 -- INITIATION\n",
      "\n",
      "CLASS MASTER:\n",
      "\n",
      "NEOPHYTE:\n",
      "\n",
      "CLASS MASTER:\n",
      "\n",
      "NEOPHYTE:\n",
      "\n",
      "RF008-1/01508\n",
      "\n",
      "With the sign of supplication I have just made, I\n",
      "symbolised the sincerity and humility which\n",
      "inspire me.\n",
      " ->Thus, with all my Soul, I call upon\n",
      "you so that I may be given the privilege of\n",
      "pursuing my progress toward the Greater Light.<-\n",
      "\n",
      "\n",
      "(Read what follows and consider that your Class\n",
      "Master is speaking to you.)\n",
      "\n",
      "\n",
      "Document Location:[4162]-[4208]:-\n",
      "ROSICRUCIAN ORDER, AMORC ......cccscscsccsecessessseees ATRIUM 2 -- INITIATION\n",
      "\n",
      "WORDS OF THE ILLUMINED\n",
      "\n",
      "“Many are the vistas that are revealed to him\n",
      "who has attained the mountain top”\n",
      "\n",
      "\n",
      " ->It is often difficult, when considering the founders of spiritual\n",
      "doctrines which marked the evolution of humanity, to make a\n",
      "distinction between the historical truths and legendary aspects of\n",
      "their lives, for such beings are always described as demigods.<-\n",
      "What\n",
      "is beyond doubt though, are the words of wisdom they uttered which\n",
      "are the reflection of Cosmic IIlumination that raised them above other\n",
      "individuals.\n",
      "\n"
     ]
    }
   ],
   "source": [
    "# Build a list of matches for all the documents\n",
    "for doc_id in doc_ids:\n",
    "    print('Processing document id: \"%s\"\\nIndex: %s'%(doc_id, indexname))\n",
    "    detailedResponse = es.search(\n",
    "    index = indexname,\n",
    "    body = {\n",
    "        \"size\":numberOfDocs,\n",
    "        \"query\":{\n",
    "            \"match\":{\n",
    "                \"_id\":doc_id\n",
    "            }\n",
    "        }\n",
    "    })\n",
    "    \n",
    "    entry=detailedResponse['hits']['hits'][0]\n",
    "    content = entry['_source']['Content']\n",
    "    title = entry['_source']['Title']\n",
    "    \n",
    "    doc = nlp(content)\n",
    "   # doc = docx\n",
    "    #print(doc)\n",
    "    \n",
    "    # Next, convert each phrase to a Doc object:\n",
    "    phrase_patterns = [nlp(text) for text in phrase_list]\n",
    "    print('Phrase Patterns: %s'%(phrase_patterns))\n",
    "    phrasematcher = PhraseMatcher(nlp.vocab, attr='LOWER')\n",
    "    # LOWER attribute makes the search case insensitive\n",
    "\n",
    "    # Pass each Doc object into matcher (note the use of the asterisk!):\n",
    "    phrasematcher.add(phrasematchername, None, *phrase_patterns)\n",
    "    \n",
    "    # Build a list of matches:\n",
    "    matches = phrasematcher(doc)\n",
    "    print('Number of matches: %s'%(len(matches)))\n",
    "    \n",
    "    # Build a list of sentences\n",
    "    sents = [sent for sent in doc.sents]\n",
    "    \n",
    "    print('\\nTitle: %s'%(title))\n",
    "    # Iterate over the sentence list until the sentence end value exceeds a match start value:\n",
    "    prev_sent = ''\n",
    "    for sent in sents:\n",
    "        for m in matches:\n",
    "            if (m[1] < sent.end) & (m[1]>= sent.start):  # this is the fifth match, that starts at doc3[673]\n",
    "                print('\\nDocument Location:[%s]-[%s]:-\\n%s\\n ->%s<-\\n%s\\n'%(sent.start, sent.end, \n",
    "                                sents[sents.index(sent)-1],sent,sents[sents.index(sent)+1]))\n",
    "                break"
   ]
  },
  {
   "cell_type": "code",
   "execution_count": 47,
   "id": "modern-captain",
   "metadata": {
    "ExecuteTime": {
     "end_time": "2021-06-10T16:24:46.343126Z",
     "start_time": "2021-06-10T16:24:46.337577Z"
    }
   },
   "outputs": [
    {
     "name": "stdout",
     "output_type": "stream",
     "text": [
      "4501\n"
     ]
    }
   ],
   "source": [
    "print(len(doc))"
   ]
  },
  {
   "cell_type": "code",
   "execution_count": 48,
   "id": "primary-procedure",
   "metadata": {
    "ExecuteTime": {
     "end_time": "2021-06-10T16:25:23.069972Z",
     "start_time": "2021-06-10T16:25:23.065225Z"
    }
   },
   "outputs": [
    {
     "name": "stdout",
     "output_type": "stream",
     "text": [
      "1000000\n"
     ]
    }
   ],
   "source": [
    "print(nlp.max_length)"
   ]
  },
  {
   "cell_type": "code",
   "execution_count": null,
   "id": "graduate-implementation",
   "metadata": {},
   "outputs": [],
   "source": []
  }
 ],
 "metadata": {
  "kernelspec": {
   "display_name": "Python 3",
   "language": "python",
   "name": "python3"
  },
  "language_info": {
   "codemirror_mode": {
    "name": "ipython",
    "version": 3
   },
   "file_extension": ".py",
   "mimetype": "text/x-python",
   "name": "python",
   "nbconvert_exporter": "python",
   "pygments_lexer": "ipython3",
   "version": "3.7.9"
  },
  "toc": {
   "base_numbering": 1,
   "nav_menu": {},
   "number_sections": true,
   "sideBar": true,
   "skip_h1_title": false,
   "title_cell": "Table of Contents",
   "title_sidebar": "Contents",
   "toc_cell": false,
   "toc_position": {},
   "toc_section_display": true,
   "toc_window_display": true
  },
  "varInspector": {
   "cols": {
    "lenName": 16,
    "lenType": 16,
    "lenVar": 40
   },
   "kernels_config": {
    "python": {
     "delete_cmd_postfix": "",
     "delete_cmd_prefix": "del ",
     "library": "var_list.py",
     "varRefreshCmd": "print(var_dic_list())"
    },
    "r": {
     "delete_cmd_postfix": ") ",
     "delete_cmd_prefix": "rm(",
     "library": "var_list.r",
     "varRefreshCmd": "cat(var_dic_list()) "
    }
   },
   "types_to_exclude": [
    "module",
    "function",
    "builtin_function_or_method",
    "instance",
    "_Feature"
   ],
   "window_display": false
  }
 },
 "nbformat": 4,
 "nbformat_minor": 5
}
